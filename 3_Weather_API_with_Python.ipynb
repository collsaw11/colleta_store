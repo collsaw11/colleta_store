{
  "cells": [
    {
      "cell_type": "markdown",
      "metadata": {
        "id": "view-in-github",
        "colab_type": "text"
      },
      "source": [
        "<a href=\"https://colab.research.google.com/github/collsaw11/colleta_store/blob/main/3_Weather_API_with_Python.ipynb\" target=\"_parent\"><img src=\"https://colab.research.google.com/assets/colab-badge.svg\" alt=\"Open In Colab\"/></a>"
      ]
    },
    {
      "cell_type": "markdown",
      "id": "c42f9d05",
      "metadata": {
        "id": "c42f9d05"
      },
      "source": [
        " ![Emil](data:image/png;base64,iVBORw0KGgoAAAANSUhEUgAAAbYAAABzCAMAAADDhdfxAAAAyVBMVEX////mDwUbGiHlAAAAAADmDQH5zszpS0npNC/+7ezvcm4ZGCAAAA4AAAn97+71qaYPDhfb29yenqDT09SzsrRfX2PZ2doVFBzwdnPnJyPwjIuMjI++vr4NCxXxgX7xhYKVlZf72tnt7e4EABD29vbk5OUzMjf4w8DLy8zw8PA8O0CpqatWVlr+9vX4ycdIR0spKC54eHtmZmntYV2Af4IiISdPT1PznpzpPTn3ubb72NdvbnH1rKrnHBTylJHuamXrSUTsYV7rVVIDzG+MAAARjUlEQVR4nO2dC1PiPBfHkQaVbeuWa1Rat0LBclEQAS+ou4/f/0O9Sdpcm3KtOvj2P7MzKw1pk19PcnJyWgqFXLlyfaXK7x8nn66P8+PvbufP0vOR8TU6/+6W/iQ9GqWjL1HJ+Lj97sb+GN18FTUk4893t/bH6Mn4MmrI3q6/u7k/RHdfaGy5uWWm9y80NoTt47vb+0N0/rXYnnKnJBP9+lpsp+XvbvDPUI7tIJVjO0jl2A5SObaDVI7tIJVjO0jl2A5SObaDVI7tIJVjO0jl2A5SObaDVI7tIJVjO0jl2A5SObaDVI7tIJVjO0jl2A5Sm2ArrcoQ3ypfL8eWkVZio7xO//335/Lx8fX5+fia6ub5+fHx8u/J2zbwcmwZKQ0bIXbxcf7n9fjs7DY9Te729uz4/fxpQ3KrsdUasabt7Bv6s6THVjLeTs6fr8ubZjWeXb//2wTcamw+cCKBWhZN+8nSYjPeXrdP1r/7a6ydJ1djq9rFSDm2ddJhKx2d7VTXy1pwObaMpMNm3Oxa28vT6pEyx5aRNNhKb3sk6r+vNLgcW0bSYbvYp8K7ixXccmwZKRXb8bks7KM8/xI/+fWIPjq7Qv+7fLzhTuf1igcdc2wZKRXblRINwQ8UKh+9Ic/lmP7x7536MWfp3HJsGWkFNrnDMbZSSS6HQL3ExfDy/E9sceXU+S3HlpGywkbIvcWvHrlO8ydzbBkpQ2yokPEc1fo7xdz2w1ZxW9MBUqNVb2bcDXp1Q3foD92wslHRemuzorghru/7VbcWbFLxEJX1lbKZYkMGF3P70HPbA1tQXxRty4NIjgXgwO+m1lMf0eCm0onBLCXo6dJvjHitzdZ47gFg2cAqDmY1qZhy7oo/nndQUQA683GLnNSnRRPh1dr9YA6AbaGKnV7D7avH6bW30P/bw8XcAhYuC3szoVeyxYa4RePki36Y3B3bcAAcs8hkQnvSSgs4D1lssyUfaAIvPlCVDyzjb3iAgq4sHRua7GyW3WjyoCmoi1+uLE2xqO0sEdWxFRdV7hx30ekIhR3Qqyrg4nNYi6DgTnijTdixlqzFGWNDYM7S6t0DW3cEYFERAufq62nTtsKBfKBlxd91GtLn/QlUPq92OqZ8Og8MC378fVvEVoVKUdNCF7aIawSSYTYbwFGbAQbSTVAA8aWMAl9pNKqYdkzW2I6MX6RevVeyI7aa56nQohb7+opGcd+Ynnyvj1k3AMlSXUA/jqwwuAdm4mwmqOqwTTVFoV0f6bDVLV07ILjXYIPjKUgWtZufhK0URzQftFsLO2Fzk6ZGe/JeWxHDYEuDYc1jPYxMR9A97U0QDViNZIdhWT0zgW1k60qa9pzWKGDT3QxRfT3B36Dnhqpdkg/n7c/BdmQ8kYq1zuRO2GowhRouOdNV1O7F34Bjbf1oyJuKxQdQ+nSpRYFp0G5m2BppRdkFcmwz/c1ATjzg1p9eCqsz/SRsR5E3Wc4KW3vAbzvkQyLZgnNiD3U1LZn5iINhj+M3TeFAjY2RBEdd7jjTTNgIw1ZVisJEUY5ttoqwNWL2pmCDyD0RqwXuZ2E7Iae/0Exuu2C7Z82F9qJVr1Vcv+GwOQKauoVASIcjcTCsdMTuFKanGT0AcN+1PaGTIPK8TQd4sr1TbE2BqOkBbzIxbUsuyrDJNwNaxUCJMR82pHKe3Vs0RgPe3qLXWIOtJCrCJn1mvJVxTLKUUPQeu7+6nbztsYUWbV2nxzzHSoP6hEVrqqlJHfbk6smBJT/ACpPPZqzqIrQGfq1Zabr3E0vsY4qtIfQmbNSb3W6l1urZEo4YW9sUTN3q9AaLcQ/awmc2bZyAzfQaIR4V+rWlxxcClVXYHpW48W/02T/5IzyJXeuS8J6jCjLBxoZIYRxBarHWaUMq1IBMwL80Fu0ATpiV1uiYS3quzXvdmzOT7LdEdyLGVuOev71gcZvAF2gwbEt+MzjgPiRXVfPnwi0yCFRspjBWDHl7h6uwbarbckJRRFnnk2yPLaSX643lSBDj5um8SWW6wmrLkwYI6QE/Pi2cB8JfyLoX4hlDgVuM7Z6NurZk8mGRc4uxVfjJgRCJEe4+Np7zT6TlIZuuydoy821SptdMsE3jqzXnyhwWjKkZAk1kL5AHPqn2+ADraVq0g6eXgK6T+e0fK0z0J/vAW8hnD4WVRldqBvrAV2qlRWGxoNQqxQSa9PLhpPCZ2G4ywcZWYC21tJs0KEF0ZQwn1GUcyesgSNdKzFPpYPursGGLm2OsGTeuunQBiVuq0GK3SIStwnwXNd5WcNmgHM9uHJt8AdQPNvHSTZtLkknqcCbYaNeYMOEwBj3RSlSxUYn2fpvVJFJCGtIxkqzx6uljb1dZt7Hh1EpcQHvOMJHrZgsFZ6EW5RG3TnRGttxWrJ3GBIhPos3c+vX6exc9X4u5Q5lgY/POOKyFkmohjR/BhW7/g42ScffTOR22OjJt6qlYLbFzksYmjHQRtgYNocHkNhJzRyNszNI1/hMbz01I/maEFReZjh+m00xLb91ZD78ZuUywsYkYgoSo2ZhF3VZAlQHvi33uNJrxesk0o16j3WQ1JRZWskoeMyPYWChmkNh84UZLsPX1URvKwxbLMmziEkWsktwl2T4ohVMTrsoZYlukx7W4gG7F3aWtjMyGLqLRREjrtMgBaoXOiEAcaxZ8VGyGirDRSUntX6y+hI0ty7UxnS6zTFfEZimzoLse28pHo9IUxVDQVx8zwxbMU4Kv67HJDiKjg9xOepqoX6g92z45If2W5Wv6lxoNwRasXIFI2ELqzHi6NWaf3ioR1J2xlYzTXURYl/DXH26zwlbcCJt23425GmTTjY6RC+w6RpUST7ofW6FptWUyGrtgpihj07pE1L4ibHRaMrU7u3RgjvYrdsVWMl7PdlG5/PL+QcAZJ2cZYUuGcTfG1qVzGL7Fu/FGKOlw6iDgnWfaGfEGKS23DbYNrC0eT/WzMDP4yMJ3xrbPuu34AWfbGR/Xt1lESTa0Nn3eDaWDh794PjdJ4Jn6APjupp5jHKPoD1ZgY5FOBZtmbgu0g6RmGYPLsgvda5Dcc7l982ZEvmiS2vbYBsxd7Fip0s9tzPXCg2HcM9GyiXor6C/m48WhlmCwYjHYnUguCZ134Ti5AHElbDUa7O8kVxXC7iD4TmyFMslKziYFiA77eN2WLn11fMCr0GSRKKDCBjvQprFL5jgu6AkHyQpr9PoibIuU1AesFtsL6kpX4muuk8dPCdQMsN1cnZYuTh7XPqN4/fsJOSSnccHb1MeltsZGA0o8RrWFmJM4dKOaaRSKjZJDuixm0yNbUmsinb6MjQW7OonJrT+no0Q0EtD7hMYdJfEVPvlzb2x35JFs/O/XyucUby+PsPuPS56T1fbZg6EfJbfGxvYr9G7HatGGwtEyHiPj4GyFHYj70wT0OxxNNVEfG7FteRc8GZP0lZgkD5okp8wmnb9jA98X2yN7GrtkXKwwuLMTZlwl4ynigl+koNkn3RQbmwLoNKSmyOFDLT9SKy3RlU4aPBxPg84UAM1S4V4FG7GSM5arhJLZkrrojeSSoansALA4P0wQLoxYyCy6UfbE9opgxMtu/DR3an/fnhh0fY59/ydumKfJ9KANsfGYPsv/6Kjmdg+oR6Kb56Mi1INTrcKXN3GKFqu8PWHDm6/UxlNR4o2bBdtTsKVhstLjmw0RNjabFr2FMtqzFBOzE13dfthwXjEa9G7u7n6f4v+epD1i+k6oXt7d3b0TH5L/AmnS3DbEJoQo2GfqfRqyHNZ5aoXCFhnpMmZTTfkAWXjHYlFQ05NvFGF/OsbmcvhAyC+ve8IWUezl8lwhayxyC3g6lxOb7M7Y3nCpB+PIeIg7GRue8arvmjI+dhkz/WOwdPLC9tjYRCZsb/RZEofTE7mFDptokpMQ6xRmOlEXcg5z6YDo7XPUUFy7BUuBNN12FnLKPDAj6fzd+ljKhoyxcR+l6EB+weGAkTeteNDYFZvxt0CyioXfyLsxaD5WQsjYjHf216VB05IL22PjPSbk6PMdRwiGdLrp3vP4v25zm32ZWwhuLy8pj5IdcQnBhz4TjOOu7A7nYtoXxRaK2T6ebYMisG3phmDxUiFxy7S9mdtsVly/J+TtWnQo2BFbyXgpkN8HNnAXXz/f4MnqCtmU3iv5iFKBCi+vx9jkkPN5Sg9ti63Lm+bd17pd8mxQn08ppt1b1sMwHI6KDIep8c24auJgKAahauJzIPJ2iit8x7F6jVnrfjGX0+hYkoeS+6gJxbFQwFTgbnYQXJybx8vzlKRdsb1dky4nk9QzcjSeriPj0/7cefnUIMPnJSr43y3+QvR9rP+2xMZjIsgArMkksjlXyHWDnpre2hmtqFDKaJXXEMKp1ISHkZioD52O5alZqwxbf6F9OEGHrS8P2ErSrMnjJztb212BGNEzglLCTsYD+pvl9qvY3khaJPllWuMSGR1av73Ex5IJrmtelSaNadCMYwotxe0TJU94SQl5P6YtjqbCKGl25ChH24G6UwniKVXdni5Tn2c+CJtKtWJ6taYwK+w8t50+Pr6/EesiUXySW4KM6un9MqlfyAwLxBeJsv/LFyXjv+jQybbrNjEtjfROhK0wTeUGzTWPCze5fyBHfJs8ucpRDdb19B0M5eV2xG2usTcIpywLgd9WYVGLWKG2+35btATD1kVSxckjaxellFQFdLwc57JiHwZZ3xE/tCU2IXFcxFbQPDJE1JmvfeaWD01KghffN1efUcT+g46b06MwxATGIPnonee4cig5VqWnv//kxxz32N0mXYyGPDzFkYTk8oqXMuHR9PYCF3xZ9zvea98nORHvXR549RNP8xWxZzlKJnGoGrLVLJAP+PxAMtxZm1uJ01mTblX3WGKhPgDCYwOmBxrtghYbfm4u2Q4IxtJAvyc2Mvjdvn884NRwXWY4Y4HnvvL5x1/ss2gfa9scW3ch3LtCvLw2kp4BJq2d6PIjVVUgNInU5JCKbeoPELWXIgqcLgWmbYQ6+opiuEF96gC743lexwbzZVhQN264wrFcL2pGryqvYEB8XUls8YHUzK24j7G5FchCOvWNFVHBZ1bweXVG0fq3twb+HHi4qyF0xPBS4DY6tgOx/4WOORYYVzfbExjRh6iV4FjADujph9MivhCILgT5r14Df13/7DZWO/Rn99P7WTWMrooZuboXGMT1mriFaKk3Vh/dLqQ9eO7S58u9lDzJWCUWGFn1PiZc8O0uLniz5lWgm7x0tzucDnrzSW8wmskzV6U6GkyKnc583lu0wg3eDUHUblYiqV/oxp+nviujW1+Oe715rzeeVptSXc21J+dJjUlPt+uieueoFbjeZE0Vel3KbRnQhqQ8cSNw+w/bUXn1W+swDeMKg3u5WvcC103fldyvdPu6rgm6zTCsVNZPaVmp3660dzkbjWzCnn5MCLr7tWJ1niTdb1sNI9oAKOnzEHbCdmAKVALsXQ3OaNNRYTutTW8trWVGy21Q8EdiC4ammmzMIgSqX5GV8p9v2FfDng2VXYiQRcPS9wL3U45tLwXuGL8BiD/Ci9VkkVA4+ZwxMse2l0IaIoEeX33VTb7r7X/SiXNs+4hH3Uy0kMSrhHZ9xMOgugBMNsqx7aOKuGNmAzAHQAxfpb1can/l2PaSr7xPRvrL0z3Nlo1ybPupkYw5M/MrbvRO0J2UY9tP/UHa/rYz/yTnHyvHtqf6A0v7VJA3+URqOba9Fcy0m2ij1dkSeyrHtr/Q6k3eRHOAtyqfLAPl2LJQ7R7vkzoOhI5nATDaZAN3L+XYslEQVmeNxmDQWLbqX/Bbjzm2LBUEnxSDVJVjO0jl2A5SObaDVI7tIJVjO0idfzG23X5jOJei96/F9u+72/tDpHsz1idi+/vd7f0hKut+ZeHzsD1/d3t/ii6/0NyMpz1+0TuXqFvN04OfRc14WX89uTYTftNS8gdPspfBfnE2Vxa6fX3a6SW7W+riKl+zZayX40/XS75iy/X/rf8BQ/rgVIRtUc4AAAAASUVORK5CYII=)\n"
      ]
    },
    {
      "cell_type": "markdown",
      "id": "49199789",
      "metadata": {
        "id": "49199789"
      },
      "source": [
        "#  OpenWeatherMap API 🌦️"
      ]
    },
    {
      "cell_type": "markdown",
      "id": "11466eaf",
      "metadata": {
        "id": "11466eaf"
      },
      "source": [
        "In this challenge, we will use OpenWeatherMap API to retrieve extract temperature forecasts for any city around the globe 🌡️\n"
      ]
    },
    {
      "cell_type": "markdown",
      "id": "6338b9c1",
      "metadata": {
        "id": "6338b9c1"
      },
      "source": [
        "## Read the documentation\n"
      ]
    },
    {
      "cell_type": "markdown",
      "id": "e9aba9bc",
      "metadata": {
        "id": "e9aba9bc"
      },
      "source": [
        "When presented with a new API to use, your first reflex should be to go straight to the documentation, and figure out the following:\n",
        "\n",
        "- Does it output JSON?\n",
        "- Does this API require authentication? (do I need to sign up to get an API key? Do I need to pay?)\n",
        "- Which endpoints can I call? What data does it return?\n",
        "\n",
        "\n",
        "\n",
        "(Go back to the `API 101` lecture from week 3 if you are confused about some of the above terms)\n",
        "\n",
        "\n",
        "👯‍♂️ Buddy time! Go to [OpenWeatherMap API documentation](https://openweathermap.org/api) read it, and try answering those questions. When you are comfortable with what this API is about, you can start working on the challenge.\n",
        "\n"
      ]
    },
    {
      "cell_type": "markdown",
      "id": "bb70b4b7",
      "metadata": {
        "id": "bb70b4b7"
      },
      "source": [
        "## Authentication (and a small 🎁 from us)\n"
      ]
    },
    {
      "cell_type": "markdown",
      "id": "b41faad9",
      "metadata": {
        "id": "b41faad9"
      },
      "source": [
        "You might have noticed that OpenWeatherMap requires you to sign up for an API key. Even though OpenWeatherMap offers a [few free API calls](https://openweathermap.org/price), they still want to know how different users consume the API (and track if you hit your API call limit 😜). This is the norm for most APIs out there.\n",
        "\n",
        "\n",
        "You can either:\n",
        "\n",
        "- Sign up for an API key (which might take 10-20 minutes to get activated)\n",
        "- Use a proxy we created for you 👉 https://weather.lewagon.com/. This URL already includes the API key, so you can just replace the host of OpenWeatherMap with the Le Wagon website and skip the API key parameter in your request. For example:\n",
        "\n",
        "`https://api.openweathermap.org/geo/1.0/direct?q=Barcelona&appid=XXXXXXXXXXX`\n",
        "\n",
        "becomes:\n",
        "\n",
        "`https://weather.lewagon.com/geo/1.0/direct?q=Barcelona`\n",
        "\n",
        "**Note**: make sure to check https://weather.lewagon.com/ to see the documentation on which endpoints are proxied (if you get a Forbidden error copy and paste the link in a new tab!). Try to click on one of the examples displayed to make sure that you can run API calls succesfully.\n",
        "\n",
        "\n",
        "If the endpoint you want to access is not shown, you will need to access it with your own API key instead.\n"
      ]
    },
    {
      "cell_type": "markdown",
      "id": "78e3bb3d",
      "metadata": {
        "id": "78e3bb3d"
      },
      "source": [
        "## Make some API calls"
      ]
    },
    {
      "cell_type": "markdown",
      "id": "6eb0521b",
      "metadata": {
        "id": "6eb0521b"
      },
      "source": [
        "### With the browser\n",
        "\n"
      ]
    },
    {
      "cell_type": "markdown",
      "id": "fc8ef717",
      "metadata": {
        "id": "fc8ef717"
      },
      "source": [
        "Have a look at the following link.\n",
        "\n",
        "<code>https://weather.lewagon.com/geo/1.0/direct?q=Paris</code>\n",
        "\n",
        "Is it a little hard to read ? If you are using Google Chrome, we recommend you to install the [JSONVue extension](https://chromewebstore.google.com/detail/jsonvue/chklaanhfefbnpoihckbnefhakgolnmc), it will make reading JSON on your browser much easier.\n",
        "Once installed, reload the page, and admire the difference !\n",
        "\n"
      ]
    },
    {
      "cell_type": "markdown",
      "id": "80c6c6a4",
      "metadata": {
        "id": "80c6c6a4"
      },
      "source": [
        "### With Python\n"
      ]
    },
    {
      "cell_type": "markdown",
      "id": "94084171",
      "metadata": {
        "id": "94084171"
      },
      "source": [
        "Now it's your turn to code ! \\\n",
        "Use the `requests`library and load the data for the city of Paris in a variable called `paris_info`and print it. \\\n",
        "This should look exactly the same as in your browser.\n"
      ]
    },
    {
      "cell_type": "markdown",
      "id": "489abeb0",
      "metadata": {
        "id": "489abeb0"
      },
      "source": [
        "<details>\n",
        "    <summary>Hint 🔍</summary>\n",
        "\n",
        "Do not copy the whole URL provided above, try to use `params` argument of the `requests.get()`method instead.\n",
        "    \n",
        "</details>"
      ]
    },
    {
      "cell_type": "code",
      "execution_count": 47,
      "id": "c3531541",
      "metadata": {
        "ExecuteTime": {
          "end_time": "2024-02-12T19:24:27.093572Z",
          "start_time": "2024-02-12T19:24:27.005595Z"
        },
        "scrolled": true,
        "id": "c3531541",
        "colab": {
          "base_uri": "https://localhost:8080/"
        },
        "outputId": "67194ec7-d712-403e-99d9-ca7384dc84fc"
      },
      "outputs": [
        {
          "output_type": "stream",
          "name": "stdout",
          "text": [
            "[{'name': 'Paris', 'local_names': {'ja': 'パリ', 'cs': 'Paříž', 'ps': 'پاريس', 'es': 'París', 'eu': 'Paris', 'ht': 'Pari', 'ur': 'پیرس', 'sh': 'Pariz', 'sc': 'Parigi', 'pa': 'ਪੈਰਿਸ', 'my': 'ပါရီမြို့', 'pl': 'Paryż', 'tg': 'Париж', 'sk': 'Paríž', 'la': 'Lutetia', 'vi': 'Paris', 'el': 'Παρίσι', 'hy': 'Փարիզ', 'he': 'פריז', 'ka': 'პარიზი', 'mk': 'Париз', 'yi': 'פאריז', 'bg': 'Париж', 'wo': 'Pari', 'no': 'Paris', 'kk': 'Париж', 'ug': 'پارىژ', 'ha': 'Pariis', 'bs': 'Pariz', 'zu': 'IParisi', 'ko': '파리', 'af': 'Parys', 'so': 'Baariis', 'bn': 'প্যারিস', 'br': 'Pariz', 'sv': 'Paris', 'li': 'Paries', 'fa': 'پاریس', 'ar': 'باريس', 'tk': 'Pariž', 'fy': 'Parys', 'or': 'ପ୍ୟାରିସ', 'be': 'Парыж', 'is': 'París', 'bo': 'ཕ་རི།', 'lt': 'Paryžius', 'hi': 'पैरिस', 'tt': 'Париж', 'ne': 'पेरिस', 'ca': 'París', 'gu': 'પૅરિસ', 'lv': 'Parīze', 'yo': 'Parisi', 'gn': 'Parĩ', 'de': 'Paris', 'kv': 'Париж', 'mr': 'पॅरिस', 'oc': 'París', 'an': 'París', 'co': 'Parighji', 'gv': 'Paarys', 'et': 'Pariis', 'os': 'Париж', 'mn': 'Парис', 'zh': '巴黎', 'cu': 'Парижь', 'fi': 'Pariisi', 'tl': 'Paris', 'km': 'ប៉ារីស', 'hu': 'Párizs', 'it': 'Parigi', 'ta': 'பாரிஸ்', 'fr': 'Paris', 'wa': 'Paris', 'ku': 'Parîs', 'ba': 'Париж', 'kn': 'ಪ್ಯಾರಿಸ್', 'cv': 'Парис', 'am': 'ፓሪስ', 'nl': 'Parijs', 'uz': 'Parij', 'ru': 'Париж', 'eo': 'Parizo', 'ky': 'Париж', 'hr': 'Pariz', 'uk': 'Париж', 'th': 'ปารีส', 'mi': 'Parī', 'ga': 'Páras', 'za': 'Bahliz', 'lb': 'Paräis', 'sr': 'Париз', 'sl': 'Pariz', 'gl': 'París', 'ml': 'പാരിസ്', 'ln': 'Pari', 'te': 'పారిస్', 'sq': 'Parisi'}, 'lat': 48.8588897, 'lon': 2.3200410217200766, 'country': 'FR', 'state': 'Ile-de-France'}]\n"
          ]
        }
      ],
      "source": [
        "#your code here\n",
        "import requests\n",
        "\n",
        "url = \"https://weather.lewagon.com/geo/1.0/direct\"\n",
        "params = {\"q\": \"Paris\"}\n",
        "response = requests.get(url, params=params)\n",
        "paris_info = response.json()\n",
        "print(paris_info)\n"
      ]
    },
    {
      "cell_type": "markdown",
      "id": "9bc6760e",
      "metadata": {
        "id": "9bc6760e"
      },
      "source": [
        "What is the type of `paris_info`?"
      ]
    },
    {
      "cell_type": "code",
      "execution_count": 48,
      "id": "1036f3ad",
      "metadata": {
        "ExecuteTime": {
          "end_time": "2024-02-12T19:24:27.097296Z",
          "start_time": "2024-02-12T19:24:27.094656Z"
        },
        "id": "1036f3ad",
        "colab": {
          "base_uri": "https://localhost:8080/"
        },
        "outputId": "d734be4a-2476-40b9-d549-ef011759e312"
      },
      "outputs": [
        {
          "output_type": "execute_result",
          "data": {
            "text/plain": [
              "list"
            ]
          },
          "metadata": {},
          "execution_count": 48
        }
      ],
      "source": [
        "#your code here\n",
        "type(paris_info)\n"
      ]
    },
    {
      "cell_type": "markdown",
      "id": "a0f5b11d",
      "metadata": {
        "id": "a0f5b11d"
      },
      "source": [
        "🎉 Congratulations, you just made your first API call with Python!\n"
      ]
    },
    {
      "cell_type": "markdown",
      "id": "6c90fbce",
      "metadata": {
        "ExecuteTime": {
          "end_time": "2024-02-12T11:13:53.933879Z",
          "start_time": "2024-02-12T11:13:53.866047Z"
        },
        "id": "6c90fbce"
      },
      "source": [
        "### Retrieve specific information"
      ]
    },
    {
      "cell_type": "markdown",
      "id": "37a94186",
      "metadata": {
        "id": "37a94186"
      },
      "source": [
        "Using your `paris_info`variable, retrieve the latitude and\n",
        "\n",
        "---\n",
        "\n",
        "longitude of Paris and store them in a list named `paris_coordinates`\n"
      ]
    },
    {
      "cell_type": "code",
      "execution_count": 49,
      "id": "9edad896",
      "metadata": {
        "ExecuteTime": {
          "end_time": "2024-02-12T19:24:27.101906Z",
          "start_time": "2024-02-12T19:24:27.098945Z"
        },
        "scrolled": true,
        "id": "9edad896",
        "colab": {
          "base_uri": "https://localhost:8080/"
        },
        "outputId": "cd527478-b740-4127-92f2-31b588170e0a"
      },
      "outputs": [
        {
          "output_type": "stream",
          "name": "stdout",
          "text": [
            "[48.8588897, 2.3200410217200766]\n"
          ]
        }
      ],
      "source": [
        "#your code here\n",
        "paris_coordinates = [paris_info[0]['lat'], paris_info[0]['lon']]\n",
        "print(paris_coordinates)"
      ]
    },
    {
      "cell_type": "markdown",
      "id": "7147a08b",
      "metadata": {
        "id": "7147a08b"
      },
      "source": [
        "Finally, create a `get_coordinates`function that will take a city name as argument and return its coordinates in a list."
      ]
    },
    {
      "cell_type": "code",
      "execution_count": 50,
      "id": "9b839486",
      "metadata": {
        "ExecuteTime": {
          "end_time": "2024-02-12T19:24:27.140556Z",
          "start_time": "2024-02-12T19:24:27.102928Z"
        },
        "id": "9b839486",
        "colab": {
          "base_uri": "https://localhost:8080/"
        },
        "outputId": "2dd491ac-3cd8-4e85-9b07-54e4747eb5f2"
      },
      "outputs": [
        {
          "output_type": "stream",
          "name": "stdout",
          "text": [
            "[51.5073219, -0.1276474]\n",
            "[35.6828387, 139.7594549]\n"
          ]
        }
      ],
      "source": [
        "#your code here\n",
        "def get_coordinates(city):\n",
        "    url = \"https://weather.lewagon.com/geo/1.0/direct\"\n",
        "    params = {\"q\": city}\n",
        "    response = requests.get(url, params=params)\n",
        "    city_info = response.json()\n",
        "\n",
        "    if city_info:\n",
        "        return [city_info[0]['lat'], city_info[0]['lon']]\n",
        "    else:\n",
        "        return None\n",
        "\n",
        "london_coordinates = get_coordinates(\"London\")\n",
        "print(london_coordinates)\n",
        "tokyo_coordinates = get_coordinates(\"Tokyo\")\n",
        "print(tokyo_coordinates)"
      ]
    },
    {
      "cell_type": "markdown",
      "id": "630e96fb",
      "metadata": {
        "id": "630e96fb"
      },
      "source": [
        "## Weather Forecasts\n"
      ]
    },
    {
      "cell_type": "markdown",
      "id": "05840373",
      "metadata": {
        "id": "05840373"
      },
      "source": [
        "### Paris forecasts\n"
      ]
    },
    {
      "cell_type": "markdown",
      "id": "10b5c840",
      "metadata": {
        "id": "10b5c840"
      },
      "source": [
        "Go back to the documentation, and find an endpoint you can use to get weather forecasts data.\n",
        "\n"
      ]
    },
    {
      "cell_type": "markdown",
      "id": "e80bab23",
      "metadata": {
        "id": "e80bab23"
      },
      "source": [
        "<details>\n",
        "    <summary>Hint 🔍</summary>\n",
        "\n",
        "The proxy provided by Le Wagon has a `forecast` endpoint.\n",
        "\n",
        "</details>\n"
      ]
    },
    {
      "cell_type": "markdown",
      "id": "4311fccd",
      "metadata": {
        "id": "4311fccd"
      },
      "source": [
        "What are the `query parameters` we need to get that information? \\\n",
        "Using that endpoint, store the weather forecasts of Paris in a variable named `paris_forecasts`."
      ]
    },
    {
      "cell_type": "markdown",
      "id": "ebe86ec3",
      "metadata": {
        "id": "ebe86ec3"
      },
      "source": [
        "<details>\n",
        "    <summary>Hint 🔍</summary>\n",
        "\n",
        "You can re-use your `get_coordinates` function.\n",
        "\n",
        "</details>\n"
      ]
    },
    {
      "cell_type": "code",
      "execution_count": 51,
      "id": "5c66e17c",
      "metadata": {
        "ExecuteTime": {
          "end_time": "2024-02-12T19:24:27.236019Z",
          "start_time": "2024-02-12T19:24:27.141656Z"
        },
        "id": "5c66e17c",
        "colab": {
          "base_uri": "https://localhost:8080/"
        },
        "outputId": "d1b98ef0-aed2-4793-997f-17cccdd36b83"
      },
      "outputs": [
        {
          "output_type": "stream",
          "name": "stdout",
          "text": [
            "{'cod': '200', 'message': 0, 'cnt': 40, 'list': [{'dt': 1736240400, 'main': {'temp': 4.32, 'feels_like': 0.28, 'temp_min': 4.32, 'temp_max': 4.32, 'pressure': 1005, 'sea_level': 1005, 'grnd_level': 995, 'humidity': 83, 'temp_kf': 0}, 'weather': [{'id': 500, 'main': 'Rain', 'description': 'light rain', 'icon': '10d'}], 'clouds': {'all': 100}, 'wind': {'speed': 5.43, 'deg': 229, 'gust': 12.28}, 'visibility': 10000, 'pop': 0.24, 'rain': {'3h': 0.18}, 'sys': {'pod': 'd'}, 'dt_txt': '2025-01-07 09:00:00'}, {'dt': 1736251200, 'main': {'temp': 5.08, 'feels_like': 1.08, 'temp_min': 5.08, 'temp_max': 6.59, 'pressure': 1005, 'sea_level': 1005, 'grnd_level': 996, 'humidity': 76, 'temp_kf': -1.51}, 'weather': [{'id': 804, 'main': 'Clouds', 'description': 'overcast clouds', 'icon': '04d'}], 'clouds': {'all': 98}, 'wind': {'speed': 5.81, 'deg': 233, 'gust': 11.66}, 'visibility': 10000, 'pop': 0, 'sys': {'pod': 'd'}, 'dt_txt': '2025-01-07 12:00:00'}, {'dt': 1736262000, 'main': {'temp': 6.25, 'feels_like': 2.6, 'temp_min': 6.25, 'temp_max': 7.22, 'pressure': 1005, 'sea_level': 1005, 'grnd_level': 996, 'humidity': 67, 'temp_kf': -0.97}, 'weather': [{'id': 804, 'main': 'Clouds', 'description': 'overcast clouds', 'icon': '04d'}], 'clouds': {'all': 95}, 'wind': {'speed': 5.71, 'deg': 236, 'gust': 11.22}, 'visibility': 10000, 'pop': 0, 'sys': {'pod': 'd'}, 'dt_txt': '2025-01-07 15:00:00'}, {'dt': 1736272800, 'main': {'temp': 6.35, 'feels_like': 3.2, 'temp_min': 6.35, 'temp_max': 6.35, 'pressure': 1007, 'sea_level': 1007, 'grnd_level': 997, 'humidity': 69, 'temp_kf': 0}, 'weather': [{'id': 804, 'main': 'Clouds', 'description': 'overcast clouds', 'icon': '04n'}], 'clouds': {'all': 96}, 'wind': {'speed': 4.63, 'deg': 242, 'gust': 9.88}, 'visibility': 10000, 'pop': 0, 'sys': {'pod': 'n'}, 'dt_txt': '2025-01-07 18:00:00'}, {'dt': 1736283600, 'main': {'temp': 5.59, 'feels_like': 3.42, 'temp_min': 5.59, 'temp_max': 5.59, 'pressure': 1008, 'sea_level': 1008, 'grnd_level': 998, 'humidity': 79, 'temp_kf': 0}, 'weather': [{'id': 804, 'main': 'Clouds', 'description': 'overcast clouds', 'icon': '04n'}], 'clouds': {'all': 98}, 'wind': {'speed': 2.72, 'deg': 236, 'gust': 8.05}, 'visibility': 10000, 'pop': 0, 'sys': {'pod': 'n'}, 'dt_txt': '2025-01-07 21:00:00'}, {'dt': 1736294400, 'main': {'temp': 4.75, 'feels_like': 3.7, 'temp_min': 4.75, 'temp_max': 4.75, 'pressure': 1008, 'sea_level': 1008, 'grnd_level': 998, 'humidity': 85, 'temp_kf': 0}, 'weather': [{'id': 804, 'main': 'Clouds', 'description': 'overcast clouds', 'icon': '04n'}], 'clouds': {'all': 92}, 'wind': {'speed': 1.47, 'deg': 228, 'gust': 4.67}, 'visibility': 10000, 'pop': 0, 'sys': {'pod': 'n'}, 'dt_txt': '2025-01-08 00:00:00'}, {'dt': 1736305200, 'main': {'temp': 4.84, 'feels_like': 4.84, 'temp_min': 4.84, 'temp_max': 4.84, 'pressure': 1007, 'sea_level': 1007, 'grnd_level': 997, 'humidity': 82, 'temp_kf': 0}, 'weather': [{'id': 804, 'main': 'Clouds', 'description': 'overcast clouds', 'icon': '04n'}], 'clouds': {'all': 100}, 'wind': {'speed': 0.78, 'deg': 226, 'gust': 1.8}, 'visibility': 10000, 'pop': 0, 'sys': {'pod': 'n'}, 'dt_txt': '2025-01-08 03:00:00'}, {'dt': 1736316000, 'main': {'temp': 4.79, 'feels_like': 4.79, 'temp_min': 4.79, 'temp_max': 4.79, 'pressure': 1006, 'sea_level': 1006, 'grnd_level': 996, 'humidity': 86, 'temp_kf': 0}, 'weather': [{'id': 500, 'main': 'Rain', 'description': 'light rain', 'icon': '10n'}], 'clouds': {'all': 100}, 'wind': {'speed': 0.98, 'deg': 178, 'gust': 1}, 'visibility': 10000, 'pop': 0.27, 'rain': {'3h': 0.5}, 'sys': {'pod': 'n'}, 'dt_txt': '2025-01-08 06:00:00'}, {'dt': 1736326800, 'main': {'temp': 3.59, 'feels_like': 0.95, 'temp_min': 3.59, 'temp_max': 3.59, 'pressure': 1005, 'sea_level': 1005, 'grnd_level': 995, 'humidity': 94, 'temp_kf': 0}, 'weather': [{'id': 500, 'main': 'Rain', 'description': 'light rain', 'icon': '10d'}], 'clouds': {'all': 100}, 'wind': {'speed': 2.83, 'deg': 104, 'gust': 5.24}, 'pop': 1, 'rain': {'3h': 2.54}, 'sys': {'pod': 'd'}, 'dt_txt': '2025-01-08 09:00:00'}, {'dt': 1736337600, 'main': {'temp': 3.45, 'feels_like': -0.03, 'temp_min': 3.45, 'temp_max': 3.45, 'pressure': 1002, 'sea_level': 1002, 'grnd_level': 992, 'humidity': 92, 'temp_kf': 0}, 'weather': [{'id': 501, 'main': 'Rain', 'description': 'moderate rain', 'icon': '10d'}], 'clouds': {'all': 100}, 'wind': {'speed': 3.97, 'deg': 109, 'gust': 9.57}, 'visibility': 8632, 'pop': 1, 'rain': {'3h': 3.31}, 'sys': {'pod': 'd'}, 'dt_txt': '2025-01-08 12:00:00'}, {'dt': 1736348400, 'main': {'temp': 9.19, 'feels_like': 6.16, 'temp_min': 9.19, 'temp_max': 9.19, 'pressure': 996, 'sea_level': 996, 'grnd_level': 987, 'humidity': 92, 'temp_kf': 0}, 'weather': [{'id': 500, 'main': 'Rain', 'description': 'light rain', 'icon': '10d'}], 'clouds': {'all': 100}, 'wind': {'speed': 6.15, 'deg': 188, 'gust': 19.02}, 'visibility': 10000, 'pop': 1, 'rain': {'3h': 2.1}, 'sys': {'pod': 'd'}, 'dt_txt': '2025-01-08 15:00:00'}, {'dt': 1736359200, 'main': {'temp': 11.58, 'feels_like': 10.8, 'temp_min': 11.58, 'temp_max': 11.58, 'pressure': 995, 'sea_level': 995, 'grnd_level': 986, 'humidity': 77, 'temp_kf': 0}, 'weather': [{'id': 500, 'main': 'Rain', 'description': 'light rain', 'icon': '10n'}], 'clouds': {'all': 100}, 'wind': {'speed': 7.3, 'deg': 232, 'gust': 17.67}, 'visibility': 10000, 'pop': 1, 'rain': {'3h': 1.76}, 'sys': {'pod': 'n'}, 'dt_txt': '2025-01-08 18:00:00'}, {'dt': 1736370000, 'main': {'temp': 11.19, 'feels_like': 10.38, 'temp_min': 11.19, 'temp_max': 11.19, 'pressure': 997, 'sea_level': 997, 'grnd_level': 987, 'humidity': 77, 'temp_kf': 0}, 'weather': [{'id': 804, 'main': 'Clouds', 'description': 'overcast clouds', 'icon': '04n'}], 'clouds': {'all': 100}, 'wind': {'speed': 7.07, 'deg': 221, 'gust': 14.9}, 'visibility': 10000, 'pop': 0, 'sys': {'pod': 'n'}, 'dt_txt': '2025-01-08 21:00:00'}, {'dt': 1736380800, 'main': {'temp': 9.45, 'feels_like': 7.44, 'temp_min': 9.45, 'temp_max': 9.45, 'pressure': 997, 'sea_level': 997, 'grnd_level': 987, 'humidity': 93, 'temp_kf': 0}, 'weather': [{'id': 500, 'main': 'Rain', 'description': 'light rain', 'icon': '10n'}], 'clouds': {'all': 100}, 'wind': {'speed': 3.77, 'deg': 214, 'gust': 10.59}, 'visibility': 4513, 'pop': 1, 'rain': {'3h': 2.51}, 'sys': {'pod': 'n'}, 'dt_txt': '2025-01-09 00:00:00'}, {'dt': 1736391600, 'main': {'temp': 8.66, 'feels_like': 6.52, 'temp_min': 8.66, 'temp_max': 8.66, 'pressure': 998, 'sea_level': 998, 'grnd_level': 988, 'humidity': 90, 'temp_kf': 0}, 'weather': [{'id': 500, 'main': 'Rain', 'description': 'light rain', 'icon': '10n'}], 'clouds': {'all': 81}, 'wind': {'speed': 3.68, 'deg': 284, 'gust': 8.83}, 'visibility': 10000, 'pop': 1, 'rain': {'3h': 1.1}, 'sys': {'pod': 'n'}, 'dt_txt': '2025-01-09 03:00:00'}, {'dt': 1736402400, 'main': {'temp': 3.95, 'feels_like': 0.62, 'temp_min': 3.95, 'temp_max': 3.95, 'pressure': 1003, 'sea_level': 1003, 'grnd_level': 993, 'humidity': 83, 'temp_kf': 0}, 'weather': [{'id': 500, 'main': 'Rain', 'description': 'light rain', 'icon': '10n'}], 'clouds': {'all': 91}, 'wind': {'speed': 3.91, 'deg': 349, 'gust': 6.21}, 'visibility': 10000, 'pop': 1, 'rain': {'3h': 0.1}, 'sys': {'pod': 'n'}, 'dt_txt': '2025-01-09 06:00:00'}, {'dt': 1736413200, 'main': {'temp': 3.13, 'feels_like': -0.68, 'temp_min': 3.13, 'temp_max': 3.13, 'pressure': 1008, 'sea_level': 1008, 'grnd_level': 998, 'humidity': 80, 'temp_kf': 0}, 'weather': [{'id': 600, 'main': 'Snow', 'description': 'light snow', 'icon': '13d'}], 'clouds': {'all': 100}, 'wind': {'speed': 4.4, 'deg': 358, 'gust': 8.37}, 'visibility': 10000, 'pop': 1, 'snow': {'3h': 0.54}, 'sys': {'pod': 'd'}, 'dt_txt': '2025-01-09 09:00:00'}, {'dt': 1736424000, 'main': {'temp': 5.01, 'feels_like': 1.89, 'temp_min': 5.01, 'temp_max': 5.01, 'pressure': 1012, 'sea_level': 1012, 'grnd_level': 1002, 'humidity': 65, 'temp_kf': 0}, 'weather': [{'id': 803, 'main': 'Clouds', 'description': 'broken clouds', 'icon': '04d'}], 'clouds': {'all': 74}, 'wind': {'speed': 3.96, 'deg': 336, 'gust': 6.82}, 'visibility': 10000, 'pop': 0.2, 'sys': {'pod': 'd'}, 'dt_txt': '2025-01-09 12:00:00'}, {'dt': 1736434800, 'main': {'temp': 5.85, 'feels_like': 3.32, 'temp_min': 5.85, 'temp_max': 5.85, 'pressure': 1015, 'sea_level': 1015, 'grnd_level': 1005, 'humidity': 61, 'temp_kf': 0}, 'weather': [{'id': 801, 'main': 'Clouds', 'description': 'few clouds', 'icon': '02d'}], 'clouds': {'all': 23}, 'wind': {'speed': 3.31, 'deg': 316, 'gust': 6.13}, 'visibility': 10000, 'pop': 0, 'sys': {'pod': 'd'}, 'dt_txt': '2025-01-09 15:00:00'}, {'dt': 1736445600, 'main': {'temp': 4.67, 'feels_like': 2.5, 'temp_min': 4.67, 'temp_max': 4.67, 'pressure': 1018, 'sea_level': 1018, 'grnd_level': 1008, 'humidity': 70, 'temp_kf': 0}, 'weather': [{'id': 802, 'main': 'Clouds', 'description': 'scattered clouds', 'icon': '03n'}], 'clouds': {'all': 32}, 'wind': {'speed': 2.51, 'deg': 291, 'gust': 6.8}, 'visibility': 10000, 'pop': 0, 'sys': {'pod': 'n'}, 'dt_txt': '2025-01-09 18:00:00'}, {'dt': 1736456400, 'main': {'temp': 3.6, 'feels_like': 1.58, 'temp_min': 3.6, 'temp_max': 3.6, 'pressure': 1021, 'sea_level': 1021, 'grnd_level': 1011, 'humidity': 74, 'temp_kf': 0}, 'weather': [{'id': 802, 'main': 'Clouds', 'description': 'scattered clouds', 'icon': '03n'}], 'clouds': {'all': 46}, 'wind': {'speed': 2.15, 'deg': 240, 'gust': 5.76}, 'visibility': 10000, 'pop': 0, 'sys': {'pod': 'n'}, 'dt_txt': '2025-01-09 21:00:00'}, {'dt': 1736467200, 'main': {'temp': 3.5, 'feels_like': 1.7, 'temp_min': 3.5, 'temp_max': 3.5, 'pressure': 1021, 'sea_level': 1021, 'grnd_level': 1011, 'humidity': 70, 'temp_kf': 0}, 'weather': [{'id': 803, 'main': 'Clouds', 'description': 'broken clouds', 'icon': '04n'}], 'clouds': {'all': 73}, 'wind': {'speed': 1.93, 'deg': 219, 'gust': 5.17}, 'visibility': 10000, 'pop': 0, 'sys': {'pod': 'n'}, 'dt_txt': '2025-01-10 00:00:00'}, {'dt': 1736478000, 'main': {'temp': 3.66, 'feels_like': 1.48, 'temp_min': 3.66, 'temp_max': 3.66, 'pressure': 1020, 'sea_level': 1020, 'grnd_level': 1010, 'humidity': 75, 'temp_kf': 0}, 'weather': [{'id': 804, 'main': 'Clouds', 'description': 'overcast clouds', 'icon': '04n'}], 'clouds': {'all': 100}, 'wind': {'speed': 2.32, 'deg': 192, 'gust': 6.23}, 'visibility': 10000, 'pop': 0, 'sys': {'pod': 'n'}, 'dt_txt': '2025-01-10 03:00:00'}, {'dt': 1736488800, 'main': {'temp': 1.62, 'feels_like': -1.67, 'temp_min': 1.62, 'temp_max': 1.62, 'pressure': 1018, 'sea_level': 1018, 'grnd_level': 1008, 'humidity': 98, 'temp_kf': 0}, 'weather': [{'id': 601, 'main': 'Snow', 'description': 'snow', 'icon': '13n'}], 'clouds': {'all': 100}, 'wind': {'speed': 3.14, 'deg': 142, 'gust': 7.15}, 'visibility': 511, 'pop': 1, 'snow': {'3h': 2.87}, 'sys': {'pod': 'n'}, 'dt_txt': '2025-01-10 06:00:00'}, {'dt': 1736499600, 'main': {'temp': 0.97, 'feels_like': -3.55, 'temp_min': 0.97, 'temp_max': 0.97, 'pressure': 1014, 'sea_level': 1014, 'grnd_level': 1004, 'humidity': 99, 'temp_kf': 0}, 'weather': [{'id': 501, 'main': 'Rain', 'description': 'moderate rain', 'icon': '10d'}], 'clouds': {'all': 100}, 'wind': {'speed': 4.74, 'deg': 112, 'gust': 12.23}, 'pop': 1, 'rain': {'3h': 6.49}, 'sys': {'pod': 'd'}, 'dt_txt': '2025-01-10 09:00:00'}, {'dt': 1736510400, 'main': {'temp': 1.73, 'feels_like': -1.34, 'temp_min': 1.73, 'temp_max': 1.73, 'pressure': 1010, 'sea_level': 1010, 'grnd_level': 1000, 'humidity': 100, 'temp_kf': 0}, 'weather': [{'id': 501, 'main': 'Rain', 'description': 'moderate rain', 'icon': '10d'}], 'clouds': {'all': 100}, 'wind': {'speed': 2.9, 'deg': 127, 'gust': 7.07}, 'pop': 1, 'rain': {'3h': 3.87}, 'sys': {'pod': 'd'}, 'dt_txt': '2025-01-10 12:00:00'}, {'dt': 1736521200, 'main': {'temp': 9.94, 'feels_like': 7.35, 'temp_min': 9.94, 'temp_max': 9.94, 'pressure': 1010, 'sea_level': 1010, 'grnd_level': 1000, 'humidity': 93, 'temp_kf': 0}, 'weather': [{'id': 500, 'main': 'Rain', 'description': 'light rain', 'icon': '10d'}], 'clouds': {'all': 100}, 'wind': {'speed': 5.45, 'deg': 260, 'gust': 15.97}, 'visibility': 10000, 'pop': 0.2, 'rain': {'3h': 0.15}, 'sys': {'pod': 'd'}, 'dt_txt': '2025-01-10 15:00:00'}, {'dt': 1736532000, 'main': {'temp': 10.09, 'feels_like': 9.5, 'temp_min': 10.09, 'temp_max': 10.09, 'pressure': 1013, 'sea_level': 1013, 'grnd_level': 1003, 'humidity': 90, 'temp_kf': 0}, 'weather': [{'id': 500, 'main': 'Rain', 'description': 'light rain', 'icon': '10n'}], 'clouds': {'all': 97}, 'wind': {'speed': 5.38, 'deg': 265, 'gust': 14.87}, 'visibility': 10000, 'pop': 0.2, 'rain': {'3h': 0.26}, 'sys': {'pod': 'n'}, 'dt_txt': '2025-01-10 18:00:00'}, {'dt': 1736542800, 'main': {'temp': 10.4, 'feels_like': 9.79, 'temp_min': 10.4, 'temp_max': 10.4, 'pressure': 1015, 'sea_level': 1015, 'grnd_level': 1006, 'humidity': 88, 'temp_kf': 0}, 'weather': [{'id': 500, 'main': 'Rain', 'description': 'light rain', 'icon': '10n'}], 'clouds': {'all': 82}, 'wind': {'speed': 5.55, 'deg': 267, 'gust': 13.77}, 'visibility': 10000, 'pop': 0.2, 'rain': {'3h': 0.1}, 'sys': {'pod': 'n'}, 'dt_txt': '2025-01-10 21:00:00'}, {'dt': 1736553600, 'main': {'temp': 5.1, 'feels_like': 2.77, 'temp_min': 5.1, 'temp_max': 5.1, 'pressure': 1020, 'sea_level': 1020, 'grnd_level': 1010, 'humidity': 93, 'temp_kf': 0}, 'weather': [{'id': 804, 'main': 'Clouds', 'description': 'overcast clouds', 'icon': '04n'}], 'clouds': {'all': 91}, 'wind': {'speed': 2.81, 'deg': 338, 'gust': 6.31}, 'visibility': 8715, 'pop': 0, 'sys': {'pod': 'n'}, 'dt_txt': '2025-01-11 00:00:00'}, {'dt': 1736564400, 'main': {'temp': 3.37, 'feels_like': 0.43, 'temp_min': 3.37, 'temp_max': 3.37, 'pressure': 1023, 'sea_level': 1023, 'grnd_level': 1013, 'humidity': 87, 'temp_kf': 0}, 'weather': [{'id': 804, 'main': 'Clouds', 'description': 'overcast clouds', 'icon': '04n'}], 'clouds': {'all': 97}, 'wind': {'speed': 3.15, 'deg': 333, 'gust': 5.15}, 'visibility': 10000, 'pop': 0, 'sys': {'pod': 'n'}, 'dt_txt': '2025-01-11 03:00:00'}, {'dt': 1736575200, 'main': {'temp': 2.76, 'feels_like': 0.29, 'temp_min': 2.76, 'temp_max': 2.76, 'pressure': 1026, 'sea_level': 1026, 'grnd_level': 1016, 'humidity': 82, 'temp_kf': 0}, 'weather': [{'id': 804, 'main': 'Clouds', 'description': 'overcast clouds', 'icon': '04n'}], 'clouds': {'all': 98}, 'wind': {'speed': 2.45, 'deg': 358, 'gust': 4.06}, 'visibility': 10000, 'pop': 0, 'sys': {'pod': 'n'}, 'dt_txt': '2025-01-11 06:00:00'}, {'dt': 1736586000, 'main': {'temp': 2.78, 'feels_like': 0.83, 'temp_min': 2.78, 'temp_max': 2.78, 'pressure': 1028, 'sea_level': 1028, 'grnd_level': 1018, 'humidity': 78, 'temp_kf': 0}, 'weather': [{'id': 804, 'main': 'Clouds', 'description': 'overcast clouds', 'icon': '04d'}], 'clouds': {'all': 100}, 'wind': {'speed': 1.96, 'deg': 9, 'gust': 2.93}, 'visibility': 10000, 'pop': 0, 'sys': {'pod': 'd'}, 'dt_txt': '2025-01-11 09:00:00'}, {'dt': 1736596800, 'main': {'temp': 3.94, 'feels_like': 2.62, 'temp_min': 3.94, 'temp_max': 3.94, 'pressure': 1030, 'sea_level': 1030, 'grnd_level': 1019, 'humidity': 68, 'temp_kf': 0}, 'weather': [{'id': 804, 'main': 'Clouds', 'description': 'overcast clouds', 'icon': '04d'}], 'clouds': {'all': 94}, 'wind': {'speed': 1.59, 'deg': 46, 'gust': 1.96}, 'visibility': 10000, 'pop': 0, 'sys': {'pod': 'd'}, 'dt_txt': '2025-01-11 12:00:00'}, {'dt': 1736607600, 'main': {'temp': 4.64, 'feels_like': 3.31, 'temp_min': 4.64, 'temp_max': 4.64, 'pressure': 1031, 'sea_level': 1031, 'grnd_level': 1021, 'humidity': 62, 'temp_kf': 0}, 'weather': [{'id': 803, 'main': 'Clouds', 'description': 'broken clouds', 'icon': '04d'}], 'clouds': {'all': 75}, 'wind': {'speed': 1.68, 'deg': 46, 'gust': 2.23}, 'visibility': 10000, 'pop': 0, 'sys': {'pod': 'd'}, 'dt_txt': '2025-01-11 15:00:00'}, {'dt': 1736618400, 'main': {'temp': 3.42, 'feels_like': 2.23, 'temp_min': 3.42, 'temp_max': 3.42, 'pressure': 1033, 'sea_level': 1033, 'grnd_level': 1023, 'humidity': 72, 'temp_kf': 0}, 'weather': [{'id': 802, 'main': 'Clouds', 'description': 'scattered clouds', 'icon': '03n'}], 'clouds': {'all': 50}, 'wind': {'speed': 1.44, 'deg': 78, 'gust': 2.98}, 'visibility': 10000, 'pop': 0, 'sys': {'pod': 'n'}, 'dt_txt': '2025-01-11 18:00:00'}, {'dt': 1736629200, 'main': {'temp': 2.4, 'feels_like': 2.4, 'temp_min': 2.4, 'temp_max': 2.4, 'pressure': 1035, 'sea_level': 1035, 'grnd_level': 1025, 'humidity': 76, 'temp_kf': 0}, 'weather': [{'id': 801, 'main': 'Clouds', 'description': 'few clouds', 'icon': '02n'}], 'clouds': {'all': 15}, 'wind': {'speed': 1.13, 'deg': 81, 'gust': 2.36}, 'visibility': 10000, 'pop': 0, 'sys': {'pod': 'n'}, 'dt_txt': '2025-01-11 21:00:00'}, {'dt': 1736640000, 'main': {'temp': 1.73, 'feels_like': 1.73, 'temp_min': 1.73, 'temp_max': 1.73, 'pressure': 1036, 'sea_level': 1036, 'grnd_level': 1026, 'humidity': 76, 'temp_kf': 0}, 'weather': [{'id': 801, 'main': 'Clouds', 'description': 'few clouds', 'icon': '02n'}], 'clouds': {'all': 18}, 'wind': {'speed': 1.25, 'deg': 110, 'gust': 2.63}, 'visibility': 10000, 'pop': 0, 'sys': {'pod': 'n'}, 'dt_txt': '2025-01-12 00:00:00'}, {'dt': 1736650800, 'main': {'temp': 1.79, 'feels_like': -0.05, 'temp_min': 1.79, 'temp_max': 1.79, 'pressure': 1038, 'sea_level': 1038, 'grnd_level': 1027, 'humidity': 72, 'temp_kf': 0}, 'weather': [{'id': 803, 'main': 'Clouds', 'description': 'broken clouds', 'icon': '04n'}], 'clouds': {'all': 61}, 'wind': {'speed': 1.74, 'deg': 124, 'gust': 3.76}, 'visibility': 10000, 'pop': 0, 'sys': {'pod': 'n'}, 'dt_txt': '2025-01-12 03:00:00'}, {'dt': 1736661600, 'main': {'temp': 1.53, 'feels_like': 0.07, 'temp_min': 1.53, 'temp_max': 1.53, 'pressure': 1039, 'sea_level': 1039, 'grnd_level': 1029, 'humidity': 76, 'temp_kf': 0}, 'weather': [{'id': 803, 'main': 'Clouds', 'description': 'broken clouds', 'icon': '04n'}], 'clouds': {'all': 76}, 'wind': {'speed': 1.45, 'deg': 127, 'gust': 3.07}, 'visibility': 10000, 'pop': 0, 'sys': {'pod': 'n'}, 'dt_txt': '2025-01-12 06:00:00'}], 'city': {'id': 6545270, 'name': 'Palais-Royal', 'coord': {'lat': 48.8589, 'lon': 2.32}, 'country': 'FR', 'population': 0, 'timezone': 3600, 'sunrise': 1736235778, 'sunset': 1736266240}}\n"
          ]
        }
      ],
      "source": [
        "#your code here\n",
        "import requests\n",
        "\n",
        "def get_weather_forecast(lat, lon):\n",
        "    url = \"https://weather.lewagon.com/data/2.5/forecast\"\n",
        "    params = {\"lat\": lat, \"lon\": lon, \"units\": \"metric\"}\n",
        "    response = requests.get(url, params=params)\n",
        "    if response.status_code == 200:\n",
        "        return response.json()\n",
        "    else:\n",
        "        return None\n",
        "\n",
        "def get_paris_weather():\n",
        "    paris_coordinates = get_coordinates(\"Paris\")\n",
        "    if paris_coordinates:\n",
        "        lat, lon = paris_coordinates\n",
        "        paris_forecasts = get_weather_forecast(lat, lon)\n",
        "        return paris_forecasts\n",
        "    else:\n",
        "        print(\"Unable to get coordinates for Paris.\")\n",
        "        return None\n",
        "\n",
        "paris_forecasts = get_paris_weather()\n",
        "if paris_forecasts:\n",
        "    print(paris_forecasts)\n"
      ]
    },
    {
      "cell_type": "markdown",
      "id": "06f10c6f",
      "metadata": {
        "id": "06f10c6f"
      },
      "source": [
        "Starting from your `paris_forecasts` variable and using a for loop, create 2 variables named `times` and `maxs` that will respectively store the forecast datetimes and maximum temperatures of Paris.\n"
      ]
    },
    {
      "cell_type": "code",
      "execution_count": 52,
      "id": "ee20714c",
      "metadata": {
        "ExecuteTime": {
          "end_time": "2024-02-12T19:24:27.239244Z",
          "start_time": "2024-02-12T19:24:27.237017Z"
        },
        "id": "ee20714c",
        "colab": {
          "base_uri": "https://localhost:8080/"
        },
        "outputId": "38b8b133-395c-4dc4-fc39-a1cc1adc1c21"
      },
      "outputs": [
        {
          "output_type": "stream",
          "name": "stdout",
          "text": [
            "Forecast Times: ['2025-01-07 09:00:00', '2025-01-07 12:00:00', '2025-01-07 15:00:00', '2025-01-07 18:00:00', '2025-01-07 21:00:00', '2025-01-08 00:00:00', '2025-01-08 03:00:00', '2025-01-08 06:00:00', '2025-01-08 09:00:00', '2025-01-08 12:00:00', '2025-01-08 15:00:00', '2025-01-08 18:00:00', '2025-01-08 21:00:00', '2025-01-09 00:00:00', '2025-01-09 03:00:00', '2025-01-09 06:00:00', '2025-01-09 09:00:00', '2025-01-09 12:00:00', '2025-01-09 15:00:00', '2025-01-09 18:00:00', '2025-01-09 21:00:00', '2025-01-10 00:00:00', '2025-01-10 03:00:00', '2025-01-10 06:00:00', '2025-01-10 09:00:00', '2025-01-10 12:00:00', '2025-01-10 15:00:00', '2025-01-10 18:00:00', '2025-01-10 21:00:00', '2025-01-11 00:00:00', '2025-01-11 03:00:00', '2025-01-11 06:00:00', '2025-01-11 09:00:00', '2025-01-11 12:00:00', '2025-01-11 15:00:00', '2025-01-11 18:00:00', '2025-01-11 21:00:00', '2025-01-12 00:00:00', '2025-01-12 03:00:00', '2025-01-12 06:00:00']\n",
            "Maximum Temperatures: [4.32, 6.59, 7.22, 6.35, 5.59, 4.75, 4.84, 4.79, 3.59, 3.45, 9.19, 11.58, 11.19, 9.45, 8.66, 3.95, 3.13, 5.01, 5.85, 4.67, 3.6, 3.5, 3.66, 1.62, 0.97, 1.73, 9.94, 10.09, 10.4, 5.1, 3.37, 2.76, 2.78, 3.94, 4.64, 3.42, 2.4, 1.73, 1.79, 1.53]\n"
          ]
        }
      ],
      "source": [
        "#your code here\n",
        "times = []\n",
        "maxs = []\n",
        "\n",
        "for forecast in paris_forecasts['list']:\n",
        "    times.append(forecast['dt_txt'])\n",
        "    maxs.append(forecast['main']['temp_max'])\n",
        "\n",
        "print(\"Forecast Times:\", times)\n",
        "print(\"Maximum Temperatures:\", maxs)"
      ]
    },
    {
      "cell_type": "markdown",
      "id": "e65d7aaa",
      "metadata": {
        "id": "e65d7aaa"
      },
      "source": [
        "Finally, store your 2 lists in a `paris_dict` dictionary,\n",
        "\n",
        "---\n",
        "\n",
        "assigning them to 2 keys: `datetime` and `max_temperature`\n",
        "\n"
      ]
    },
    {
      "cell_type": "code",
      "execution_count": 53,
      "id": "6185ea93",
      "metadata": {
        "ExecuteTime": {
          "end_time": "2024-02-12T19:24:27.242679Z",
          "start_time": "2024-02-12T19:24:27.240171Z"
        },
        "id": "6185ea93",
        "colab": {
          "base_uri": "https://localhost:8080/"
        },
        "outputId": "1060538e-e2aa-48ca-da71-9b9331d86c95"
      },
      "outputs": [
        {
          "output_type": "stream",
          "name": "stdout",
          "text": [
            "{'datetime': ['2025-01-07 09:00:00', '2025-01-07 12:00:00', '2025-01-07 15:00:00', '2025-01-07 18:00:00', '2025-01-07 21:00:00', '2025-01-08 00:00:00', '2025-01-08 03:00:00', '2025-01-08 06:00:00', '2025-01-08 09:00:00', '2025-01-08 12:00:00', '2025-01-08 15:00:00', '2025-01-08 18:00:00', '2025-01-08 21:00:00', '2025-01-09 00:00:00', '2025-01-09 03:00:00', '2025-01-09 06:00:00', '2025-01-09 09:00:00', '2025-01-09 12:00:00', '2025-01-09 15:00:00', '2025-01-09 18:00:00', '2025-01-09 21:00:00', '2025-01-10 00:00:00', '2025-01-10 03:00:00', '2025-01-10 06:00:00', '2025-01-10 09:00:00', '2025-01-10 12:00:00', '2025-01-10 15:00:00', '2025-01-10 18:00:00', '2025-01-10 21:00:00', '2025-01-11 00:00:00', '2025-01-11 03:00:00', '2025-01-11 06:00:00', '2025-01-11 09:00:00', '2025-01-11 12:00:00', '2025-01-11 15:00:00', '2025-01-11 18:00:00', '2025-01-11 21:00:00', '2025-01-12 00:00:00', '2025-01-12 03:00:00', '2025-01-12 06:00:00'], 'max_temperature': [4.32, 6.59, 7.22, 6.35, 5.59, 4.75, 4.84, 4.79, 3.59, 3.45, 9.19, 11.58, 11.19, 9.45, 8.66, 3.95, 3.13, 5.01, 5.85, 4.67, 3.6, 3.5, 3.66, 1.62, 0.97, 1.73, 9.94, 10.09, 10.4, 5.1, 3.37, 2.76, 2.78, 3.94, 4.64, 3.42, 2.4, 1.73, 1.79, 1.53]}\n"
          ]
        }
      ],
      "source": [
        "#your code here\n",
        "paris_dict = {'datetime': times, 'max_temperature': maxs}\n",
        "print(paris_dict)"
      ]
    },
    {
      "cell_type": "markdown",
      "id": "7e79bebf",
      "metadata": {
        "id": "7e79bebf"
      },
      "source": [
        "### Any city forecasts"
      ]
    },
    {
      "cell_type": "markdown",
      "id": "8feae0f0",
      "metadata": {
        "id": "8feae0f0"
      },
      "source": [
        "Using every previous step, create a `get_forecasts` function that will take a city name as argument and return a dictionnary containing the forecast datetimes and maximum temperatures. 🚀"
      ]
    },
    {
      "cell_type": "code",
      "execution_count": 54,
      "id": "2c5a31fc",
      "metadata": {
        "ExecuteTime": {
          "end_time": "2024-02-12T19:24:27.245970Z",
          "start_time": "2024-02-12T19:24:27.243514Z"
        },
        "id": "2c5a31fc",
        "colab": {
          "base_uri": "https://localhost:8080/"
        },
        "outputId": "de3ec79a-efe5-486a-ef1e-9c113bb2196e"
      },
      "outputs": [
        {
          "output_type": "stream",
          "name": "stdout",
          "text": [
            "{'datetime': ['2025-01-07 09:00:00', '2025-01-07 12:00:00', '2025-01-07 15:00:00', '2025-01-07 18:00:00', '2025-01-07 21:00:00', '2025-01-08 00:00:00', '2025-01-08 03:00:00', '2025-01-08 06:00:00', '2025-01-08 09:00:00', '2025-01-08 12:00:00', '2025-01-08 15:00:00', '2025-01-08 18:00:00', '2025-01-08 21:00:00', '2025-01-09 00:00:00', '2025-01-09 03:00:00', '2025-01-09 06:00:00', '2025-01-09 09:00:00', '2025-01-09 12:00:00', '2025-01-09 15:00:00', '2025-01-09 18:00:00', '2025-01-09 21:00:00', '2025-01-10 00:00:00', '2025-01-10 03:00:00', '2025-01-10 06:00:00', '2025-01-10 09:00:00', '2025-01-10 12:00:00', '2025-01-10 15:00:00', '2025-01-10 18:00:00', '2025-01-10 21:00:00', '2025-01-11 00:00:00', '2025-01-11 03:00:00', '2025-01-11 06:00:00', '2025-01-11 09:00:00', '2025-01-11 12:00:00', '2025-01-11 15:00:00', '2025-01-11 18:00:00', '2025-01-11 21:00:00', '2025-01-12 00:00:00', '2025-01-12 03:00:00', '2025-01-12 06:00:00'], 'max_temperature': [4.32, 6.59, 7.22, 6.35, 5.59, 4.75, 4.84, 4.79, 3.59, 3.45, 9.19, 11.58, 11.19, 9.45, 8.66, 3.95, 3.13, 5.01, 5.85, 4.67, 3.6, 3.5, 3.66, 1.62, 0.97, 1.73, 9.94, 10.09, 10.4, 5.1, 3.37, 2.76, 2.78, 3.94, 4.64, 3.42, 2.4, 1.73, 1.79, 1.53]}\n"
          ]
        }
      ],
      "source": [
        "#your code here\n",
        "import requests\n",
        "\n",
        "def get_forecasts(city):\n",
        "    city_coordinates = get_coordinates(city)\n",
        "\n",
        "    if city_coordinates:\n",
        "        lat, lon = city_coordinates\n",
        "\n",
        "        city_forecasts = get_weather_forecast(lat, lon)\n",
        "\n",
        "        if city_forecasts:\n",
        "            times = []\n",
        "            maxs = []\n",
        "\n",
        "            for forecast in city_forecasts['list']:\n",
        "                times.append(forecast['dt_txt'])\n",
        "                maxs.append(forecast['main']['temp_max'])\n",
        "\n",
        "            city_dict = {\n",
        "                'datetime': times,\n",
        "                'max_temperature': maxs\n",
        "            }\n",
        "\n",
        "            return city_dict\n",
        "        else:\n",
        "            return {\"error\": \"Unable to get weather forecast.\"}\n",
        "    else:\n",
        "        return {\"error\": \"Unable to get coordinates for the city.\"}\n",
        "\n",
        "city_forecast = get_forecasts(\"Paris\")\n",
        "print(city_forecast)"
      ]
    },
    {
      "cell_type": "markdown",
      "id": "48f42042",
      "metadata": {
        "id": "48f42042"
      },
      "source": [
        "Congratulations ! 🎉 \\\n",
        "You have now created a powerful function that can give you hourly temperature forecasts thanks to some API calls !"
      ]
    },
    {
      "cell_type": "markdown",
      "id": "8653f18d",
      "metadata": {
        "id": "8653f18d"
      },
      "source": [
        "### Bonus : Visualization"
      ]
    },
    {
      "cell_type": "markdown",
      "id": "bce35933",
      "metadata": {
        "id": "bce35933"
      },
      "source": [
        "Run the following lines of code to plot the temperature forecasts for various cities accross the globe 🌍 \\\n",
        "Don't worry about about the `plotly.express` library, we will cover it in the next lecture."
      ]
    },
    {
      "cell_type": "code",
      "execution_count": 55,
      "id": "51c84609",
      "metadata": {
        "ExecuteTime": {
          "end_time": "2024-02-12T19:24:28.315634Z",
          "start_time": "2024-02-12T19:24:27.247937Z"
        },
        "id": "51c84609",
        "colab": {
          "base_uri": "https://localhost:8080/",
          "height": 542
        },
        "outputId": "a713569c-8eaa-42e3-b024-43f3c21f159d"
      },
      "outputs": [
        {
          "output_type": "display_data",
          "data": {
            "text/html": [
              "<html>\n",
              "<head><meta charset=\"utf-8\" /></head>\n",
              "<body>\n",
              "    <div>            <script src=\"https://cdnjs.cloudflare.com/ajax/libs/mathjax/2.7.5/MathJax.js?config=TeX-AMS-MML_SVG\"></script><script type=\"text/javascript\">if (window.MathJax && window.MathJax.Hub && window.MathJax.Hub.Config) {window.MathJax.Hub.Config({SVG: {font: \"STIX-Web\"}});}</script>                <script type=\"text/javascript\">window.PlotlyConfig = {MathJaxConfig: 'local'};</script>\n",
              "        <script charset=\"utf-8\" src=\"https://cdn.plot.ly/plotly-2.35.2.min.js\"></script>                <div id=\"06921585-3d6d-41dd-8833-5ad69158e76f\" class=\"plotly-graph-div\" style=\"height:525px; width:100%;\"></div>            <script type=\"text/javascript\">                                    window.PLOTLYENV=window.PLOTLYENV || {};                                    if (document.getElementById(\"06921585-3d6d-41dd-8833-5ad69158e76f\")) {                    Plotly.newPlot(                        \"06921585-3d6d-41dd-8833-5ad69158e76f\",                        [{\"hovertemplate\":\"variable=Paris\\u003cbr\\u003edatetime=%{x}\\u003cbr\\u003evalue=%{y}\\u003cextra\\u003e\\u003c\\u002fextra\\u003e\",\"legendgroup\":\"Paris\",\"line\":{\"color\":\"#636efa\",\"dash\":\"solid\"},\"marker\":{\"symbol\":\"circle\"},\"mode\":\"lines\",\"name\":\"Paris\",\"orientation\":\"v\",\"showlegend\":true,\"x\":[\"2025-01-07T09:00:00\",\"2025-01-07T12:00:00\",\"2025-01-07T15:00:00\",\"2025-01-07T18:00:00\",\"2025-01-07T21:00:00\",\"2025-01-08T00:00:00\",\"2025-01-08T03:00:00\",\"2025-01-08T06:00:00\",\"2025-01-08T09:00:00\",\"2025-01-08T12:00:00\",\"2025-01-08T15:00:00\",\"2025-01-08T18:00:00\",\"2025-01-08T21:00:00\",\"2025-01-09T00:00:00\",\"2025-01-09T03:00:00\",\"2025-01-09T06:00:00\",\"2025-01-09T09:00:00\",\"2025-01-09T12:00:00\",\"2025-01-09T15:00:00\",\"2025-01-09T18:00:00\",\"2025-01-09T21:00:00\",\"2025-01-10T00:00:00\",\"2025-01-10T03:00:00\",\"2025-01-10T06:00:00\",\"2025-01-10T09:00:00\",\"2025-01-10T12:00:00\",\"2025-01-10T15:00:00\",\"2025-01-10T18:00:00\",\"2025-01-10T21:00:00\",\"2025-01-11T00:00:00\",\"2025-01-11T03:00:00\",\"2025-01-11T06:00:00\",\"2025-01-11T09:00:00\",\"2025-01-11T12:00:00\",\"2025-01-11T15:00:00\",\"2025-01-11T18:00:00\",\"2025-01-11T21:00:00\",\"2025-01-12T00:00:00\",\"2025-01-12T03:00:00\",\"2025-01-12T06:00:00\",\"2025-01-12T09:00:00\"],\"xaxis\":\"x\",\"y\":[4.32,6.59,7.22,6.35,5.59,4.75,4.84,4.79,3.59,3.45,9.19,11.58,11.19,9.45,8.66,3.95,3.13,5.01,5.85,4.67,3.6,3.5,3.66,1.62,0.97,1.73,9.94,10.09,10.4,5.1,3.37,2.76,2.78,3.94,4.64,3.42,2.4,1.73,1.79,1.53,null],\"yaxis\":\"y\",\"type\":\"scatter\"},{\"hovertemplate\":\"variable=London\\u003cbr\\u003edatetime=%{x}\\u003cbr\\u003evalue=%{y}\\u003cextra\\u003e\\u003c\\u002fextra\\u003e\",\"legendgroup\":\"London\",\"line\":{\"color\":\"#EF553B\",\"dash\":\"solid\"},\"marker\":{\"symbol\":\"circle\"},\"mode\":\"lines\",\"name\":\"London\",\"orientation\":\"v\",\"showlegend\":true,\"x\":[\"2025-01-07T09:00:00\",\"2025-01-07T12:00:00\",\"2025-01-07T15:00:00\",\"2025-01-07T18:00:00\",\"2025-01-07T21:00:00\",\"2025-01-08T00:00:00\",\"2025-01-08T03:00:00\",\"2025-01-08T06:00:00\",\"2025-01-08T09:00:00\",\"2025-01-08T12:00:00\",\"2025-01-08T15:00:00\",\"2025-01-08T18:00:00\",\"2025-01-08T21:00:00\",\"2025-01-09T00:00:00\",\"2025-01-09T03:00:00\",\"2025-01-09T06:00:00\",\"2025-01-09T09:00:00\",\"2025-01-09T12:00:00\",\"2025-01-09T15:00:00\",\"2025-01-09T18:00:00\",\"2025-01-09T21:00:00\",\"2025-01-10T00:00:00\",\"2025-01-10T03:00:00\",\"2025-01-10T06:00:00\",\"2025-01-10T09:00:00\",\"2025-01-10T12:00:00\",\"2025-01-10T15:00:00\",\"2025-01-10T18:00:00\",\"2025-01-10T21:00:00\",\"2025-01-11T00:00:00\",\"2025-01-11T03:00:00\",\"2025-01-11T06:00:00\",\"2025-01-11T09:00:00\",\"2025-01-11T12:00:00\",\"2025-01-11T15:00:00\",\"2025-01-11T18:00:00\",\"2025-01-11T21:00:00\",\"2025-01-12T00:00:00\",\"2025-01-12T03:00:00\",\"2025-01-12T06:00:00\",\"2025-01-12T09:00:00\"],\"xaxis\":\"x\",\"y\":[null,3.68,4.08,3.04,2.32,1.62,1.11,0.82,1.54,3.2,2.69,1.96,1.45,1.41,0.58,0.08,0.2,2.39,3.26,1.9,1.46,1.04,1.65,1.06,0.95,0.95,1.65,1.97,1.53,1.14,1.2,1.47,1.95,2.57,3.03,2.53,2.39,2.19,1.83,2.74,2.61],\"yaxis\":\"y\",\"type\":\"scatter\"},{\"hovertemplate\":\"variable=Lisbon\\u003cbr\\u003edatetime=%{x}\\u003cbr\\u003evalue=%{y}\\u003cextra\\u003e\\u003c\\u002fextra\\u003e\",\"legendgroup\":\"Lisbon\",\"line\":{\"color\":\"#00cc96\",\"dash\":\"solid\"},\"marker\":{\"symbol\":\"circle\"},\"mode\":\"lines\",\"name\":\"Lisbon\",\"orientation\":\"v\",\"showlegend\":true,\"x\":[\"2025-01-07T09:00:00\",\"2025-01-07T12:00:00\",\"2025-01-07T15:00:00\",\"2025-01-07T18:00:00\",\"2025-01-07T21:00:00\",\"2025-01-08T00:00:00\",\"2025-01-08T03:00:00\",\"2025-01-08T06:00:00\",\"2025-01-08T09:00:00\",\"2025-01-08T12:00:00\",\"2025-01-08T15:00:00\",\"2025-01-08T18:00:00\",\"2025-01-08T21:00:00\",\"2025-01-09T00:00:00\",\"2025-01-09T03:00:00\",\"2025-01-09T06:00:00\",\"2025-01-09T09:00:00\",\"2025-01-09T12:00:00\",\"2025-01-09T15:00:00\",\"2025-01-09T18:00:00\",\"2025-01-09T21:00:00\",\"2025-01-10T00:00:00\",\"2025-01-10T03:00:00\",\"2025-01-10T06:00:00\",\"2025-01-10T09:00:00\",\"2025-01-10T12:00:00\",\"2025-01-10T15:00:00\",\"2025-01-10T18:00:00\",\"2025-01-10T21:00:00\",\"2025-01-11T00:00:00\",\"2025-01-11T03:00:00\",\"2025-01-11T06:00:00\",\"2025-01-11T09:00:00\",\"2025-01-11T12:00:00\",\"2025-01-11T15:00:00\",\"2025-01-11T18:00:00\",\"2025-01-11T21:00:00\",\"2025-01-12T00:00:00\",\"2025-01-12T03:00:00\",\"2025-01-12T06:00:00\",\"2025-01-12T09:00:00\"],\"xaxis\":\"x\",\"y\":[null,15.92,15.8,14.59,14.67,14.78,14.68,14.88,15.4,15.91,16.03,15.79,14.96,14.57,13.9,13.56,13.89,16.91,17.21,15.18,14.53,14.71,15.23,15.59,15.99,17.68,17.16,16.44,16.56,16.25,15.23,15.29,15.81,17.63,18.65,16.59,16.32,15.47,15.36,14.39,14.98],\"yaxis\":\"y\",\"type\":\"scatter\"},{\"hovertemplate\":\"variable=New York\\u003cbr\\u003edatetime=%{x}\\u003cbr\\u003evalue=%{y}\\u003cextra\\u003e\\u003c\\u002fextra\\u003e\",\"legendgroup\":\"New York\",\"line\":{\"color\":\"#ab63fa\",\"dash\":\"solid\"},\"marker\":{\"symbol\":\"circle\"},\"mode\":\"lines\",\"name\":\"New York\",\"orientation\":\"v\",\"showlegend\":true,\"x\":[\"2025-01-07T09:00:00\",\"2025-01-07T12:00:00\",\"2025-01-07T15:00:00\",\"2025-01-07T18:00:00\",\"2025-01-07T21:00:00\",\"2025-01-08T00:00:00\",\"2025-01-08T03:00:00\",\"2025-01-08T06:00:00\",\"2025-01-08T09:00:00\",\"2025-01-08T12:00:00\",\"2025-01-08T15:00:00\",\"2025-01-08T18:00:00\",\"2025-01-08T21:00:00\",\"2025-01-09T00:00:00\",\"2025-01-09T03:00:00\",\"2025-01-09T06:00:00\",\"2025-01-09T09:00:00\",\"2025-01-09T12:00:00\",\"2025-01-09T15:00:00\",\"2025-01-09T18:00:00\",\"2025-01-09T21:00:00\",\"2025-01-10T00:00:00\",\"2025-01-10T03:00:00\",\"2025-01-10T06:00:00\",\"2025-01-10T09:00:00\",\"2025-01-10T12:00:00\",\"2025-01-10T15:00:00\",\"2025-01-10T18:00:00\",\"2025-01-10T21:00:00\",\"2025-01-11T00:00:00\",\"2025-01-11T03:00:00\",\"2025-01-11T06:00:00\",\"2025-01-11T09:00:00\",\"2025-01-11T12:00:00\",\"2025-01-11T15:00:00\",\"2025-01-11T18:00:00\",\"2025-01-11T21:00:00\",\"2025-01-12T00:00:00\",\"2025-01-12T03:00:00\",\"2025-01-12T06:00:00\",\"2025-01-12T09:00:00\"],\"xaxis\":\"x\",\"y\":[null,-5.51,-3.54,-0.75,-0.91,-2.26,-3.0,-3.83,-4.49,-5.12,-4.27,-2.7,-2.67,-4.18,-5.18,-5.5,-5.69,-5.53,-3.95,-0.84,-0.82,-2.15,-2.63,-2.7,-3.11,-3.4,-1.64,1.25,1.44,-0.28,-1.01,-0.68,-0.53,-0.51,-1.71,-0.81,-0.26,-0.93,-1.33,-0.61,-1.25],\"yaxis\":\"y\",\"type\":\"scatter\"},{\"hovertemplate\":\"variable=Cape Town\\u003cbr\\u003edatetime=%{x}\\u003cbr\\u003evalue=%{y}\\u003cextra\\u003e\\u003c\\u002fextra\\u003e\",\"legendgroup\":\"Cape Town\",\"line\":{\"color\":\"#FFA15A\",\"dash\":\"solid\"},\"marker\":{\"symbol\":\"circle\"},\"mode\":\"lines\",\"name\":\"Cape Town\",\"orientation\":\"v\",\"showlegend\":true,\"x\":[\"2025-01-07T09:00:00\",\"2025-01-07T12:00:00\",\"2025-01-07T15:00:00\",\"2025-01-07T18:00:00\",\"2025-01-07T21:00:00\",\"2025-01-08T00:00:00\",\"2025-01-08T03:00:00\",\"2025-01-08T06:00:00\",\"2025-01-08T09:00:00\",\"2025-01-08T12:00:00\",\"2025-01-08T15:00:00\",\"2025-01-08T18:00:00\",\"2025-01-08T21:00:00\",\"2025-01-09T00:00:00\",\"2025-01-09T03:00:00\",\"2025-01-09T06:00:00\",\"2025-01-09T09:00:00\",\"2025-01-09T12:00:00\",\"2025-01-09T15:00:00\",\"2025-01-09T18:00:00\",\"2025-01-09T21:00:00\",\"2025-01-10T00:00:00\",\"2025-01-10T03:00:00\",\"2025-01-10T06:00:00\",\"2025-01-10T09:00:00\",\"2025-01-10T12:00:00\",\"2025-01-10T15:00:00\",\"2025-01-10T18:00:00\",\"2025-01-10T21:00:00\",\"2025-01-11T00:00:00\",\"2025-01-11T03:00:00\",\"2025-01-11T06:00:00\",\"2025-01-11T09:00:00\",\"2025-01-11T12:00:00\",\"2025-01-11T15:00:00\",\"2025-01-11T18:00:00\",\"2025-01-11T21:00:00\",\"2025-01-12T00:00:00\",\"2025-01-12T03:00:00\",\"2025-01-12T06:00:00\",\"2025-01-12T09:00:00\"],\"xaxis\":\"x\",\"y\":[null,22.5,21.48,18.84,18.11,17.89,17.58,18.76,21.19,21.56,21.39,19.63,18.91,18.32,17.8,19.28,21.14,22.18,21.86,20.17,19.69,19.43,19.4,19.83,21.15,21.79,21.16,19.19,18.48,18.3,17.98,19.2,21.01,21.89,21.26,19.51,18.99,18.96,18.7,20.23,22.55],\"yaxis\":\"y\",\"type\":\"scatter\"},{\"hovertemplate\":\"variable=Madrid\\u003cbr\\u003edatetime=%{x}\\u003cbr\\u003evalue=%{y}\\u003cextra\\u003e\\u003c\\u002fextra\\u003e\",\"legendgroup\":\"Madrid\",\"line\":{\"color\":\"#19d3f3\",\"dash\":\"solid\"},\"marker\":{\"symbol\":\"circle\"},\"mode\":\"lines\",\"name\":\"Madrid\",\"orientation\":\"v\",\"showlegend\":true,\"x\":[\"2025-01-07T09:00:00\",\"2025-01-07T12:00:00\",\"2025-01-07T15:00:00\",\"2025-01-07T18:00:00\",\"2025-01-07T21:00:00\",\"2025-01-08T00:00:00\",\"2025-01-08T03:00:00\",\"2025-01-08T06:00:00\",\"2025-01-08T09:00:00\",\"2025-01-08T12:00:00\",\"2025-01-08T15:00:00\",\"2025-01-08T18:00:00\",\"2025-01-08T21:00:00\",\"2025-01-09T00:00:00\",\"2025-01-09T03:00:00\",\"2025-01-09T06:00:00\",\"2025-01-09T09:00:00\",\"2025-01-09T12:00:00\",\"2025-01-09T15:00:00\",\"2025-01-09T18:00:00\",\"2025-01-09T21:00:00\",\"2025-01-10T00:00:00\",\"2025-01-10T03:00:00\",\"2025-01-10T06:00:00\",\"2025-01-10T09:00:00\",\"2025-01-10T12:00:00\",\"2025-01-10T15:00:00\",\"2025-01-10T18:00:00\",\"2025-01-10T21:00:00\",\"2025-01-11T00:00:00\",\"2025-01-11T03:00:00\",\"2025-01-11T06:00:00\",\"2025-01-11T09:00:00\",\"2025-01-11T12:00:00\",\"2025-01-11T15:00:00\",\"2025-01-11T18:00:00\",\"2025-01-11T21:00:00\",\"2025-01-12T00:00:00\",\"2025-01-12T03:00:00\",\"2025-01-12T06:00:00\",\"2025-01-12T09:00:00\"],\"xaxis\":\"x\",\"y\":[null,7.56,9.34,7.74,7.02,6.96,7.53,6.78,6.84,9.81,11.11,9.02,8.98,9.66,7.91,7.94,8.01,11.61,13.24,9.93,8.97,8.31,7.65,6.97,7.3,10.25,12.92,10.84,9.62,8.65,7.96,7.64,8.18,11.67,11.02,10.69,9.77,9.28,8.67,7.8,7.62],\"yaxis\":\"y\",\"type\":\"scatter\"}],                        {\"template\":{\"data\":{\"histogram2dcontour\":[{\"type\":\"histogram2dcontour\",\"colorbar\":{\"outlinewidth\":0,\"ticks\":\"\"},\"colorscale\":[[0.0,\"#0d0887\"],[0.1111111111111111,\"#46039f\"],[0.2222222222222222,\"#7201a8\"],[0.3333333333333333,\"#9c179e\"],[0.4444444444444444,\"#bd3786\"],[0.5555555555555556,\"#d8576b\"],[0.6666666666666666,\"#ed7953\"],[0.7777777777777778,\"#fb9f3a\"],[0.8888888888888888,\"#fdca26\"],[1.0,\"#f0f921\"]]}],\"choropleth\":[{\"type\":\"choropleth\",\"colorbar\":{\"outlinewidth\":0,\"ticks\":\"\"}}],\"histogram2d\":[{\"type\":\"histogram2d\",\"colorbar\":{\"outlinewidth\":0,\"ticks\":\"\"},\"colorscale\":[[0.0,\"#0d0887\"],[0.1111111111111111,\"#46039f\"],[0.2222222222222222,\"#7201a8\"],[0.3333333333333333,\"#9c179e\"],[0.4444444444444444,\"#bd3786\"],[0.5555555555555556,\"#d8576b\"],[0.6666666666666666,\"#ed7953\"],[0.7777777777777778,\"#fb9f3a\"],[0.8888888888888888,\"#fdca26\"],[1.0,\"#f0f921\"]]}],\"heatmap\":[{\"type\":\"heatmap\",\"colorbar\":{\"outlinewidth\":0,\"ticks\":\"\"},\"colorscale\":[[0.0,\"#0d0887\"],[0.1111111111111111,\"#46039f\"],[0.2222222222222222,\"#7201a8\"],[0.3333333333333333,\"#9c179e\"],[0.4444444444444444,\"#bd3786\"],[0.5555555555555556,\"#d8576b\"],[0.6666666666666666,\"#ed7953\"],[0.7777777777777778,\"#fb9f3a\"],[0.8888888888888888,\"#fdca26\"],[1.0,\"#f0f921\"]]}],\"heatmapgl\":[{\"type\":\"heatmapgl\",\"colorbar\":{\"outlinewidth\":0,\"ticks\":\"\"},\"colorscale\":[[0.0,\"#0d0887\"],[0.1111111111111111,\"#46039f\"],[0.2222222222222222,\"#7201a8\"],[0.3333333333333333,\"#9c179e\"],[0.4444444444444444,\"#bd3786\"],[0.5555555555555556,\"#d8576b\"],[0.6666666666666666,\"#ed7953\"],[0.7777777777777778,\"#fb9f3a\"],[0.8888888888888888,\"#fdca26\"],[1.0,\"#f0f921\"]]}],\"contourcarpet\":[{\"type\":\"contourcarpet\",\"colorbar\":{\"outlinewidth\":0,\"ticks\":\"\"}}],\"contour\":[{\"type\":\"contour\",\"colorbar\":{\"outlinewidth\":0,\"ticks\":\"\"},\"colorscale\":[[0.0,\"#0d0887\"],[0.1111111111111111,\"#46039f\"],[0.2222222222222222,\"#7201a8\"],[0.3333333333333333,\"#9c179e\"],[0.4444444444444444,\"#bd3786\"],[0.5555555555555556,\"#d8576b\"],[0.6666666666666666,\"#ed7953\"],[0.7777777777777778,\"#fb9f3a\"],[0.8888888888888888,\"#fdca26\"],[1.0,\"#f0f921\"]]}],\"surface\":[{\"type\":\"surface\",\"colorbar\":{\"outlinewidth\":0,\"ticks\":\"\"},\"colorscale\":[[0.0,\"#0d0887\"],[0.1111111111111111,\"#46039f\"],[0.2222222222222222,\"#7201a8\"],[0.3333333333333333,\"#9c179e\"],[0.4444444444444444,\"#bd3786\"],[0.5555555555555556,\"#d8576b\"],[0.6666666666666666,\"#ed7953\"],[0.7777777777777778,\"#fb9f3a\"],[0.8888888888888888,\"#fdca26\"],[1.0,\"#f0f921\"]]}],\"mesh3d\":[{\"type\":\"mesh3d\",\"colorbar\":{\"outlinewidth\":0,\"ticks\":\"\"}}],\"scatter\":[{\"fillpattern\":{\"fillmode\":\"overlay\",\"size\":10,\"solidity\":0.2},\"type\":\"scatter\"}],\"parcoords\":[{\"type\":\"parcoords\",\"line\":{\"colorbar\":{\"outlinewidth\":0,\"ticks\":\"\"}}}],\"scatterpolargl\":[{\"type\":\"scatterpolargl\",\"marker\":{\"colorbar\":{\"outlinewidth\":0,\"ticks\":\"\"}}}],\"bar\":[{\"error_x\":{\"color\":\"#2a3f5f\"},\"error_y\":{\"color\":\"#2a3f5f\"},\"marker\":{\"line\":{\"color\":\"#E5ECF6\",\"width\":0.5},\"pattern\":{\"fillmode\":\"overlay\",\"size\":10,\"solidity\":0.2}},\"type\":\"bar\"}],\"scattergeo\":[{\"type\":\"scattergeo\",\"marker\":{\"colorbar\":{\"outlinewidth\":0,\"ticks\":\"\"}}}],\"scatterpolar\":[{\"type\":\"scatterpolar\",\"marker\":{\"colorbar\":{\"outlinewidth\":0,\"ticks\":\"\"}}}],\"histogram\":[{\"marker\":{\"pattern\":{\"fillmode\":\"overlay\",\"size\":10,\"solidity\":0.2}},\"type\":\"histogram\"}],\"scattergl\":[{\"type\":\"scattergl\",\"marker\":{\"colorbar\":{\"outlinewidth\":0,\"ticks\":\"\"}}}],\"scatter3d\":[{\"type\":\"scatter3d\",\"line\":{\"colorbar\":{\"outlinewidth\":0,\"ticks\":\"\"}},\"marker\":{\"colorbar\":{\"outlinewidth\":0,\"ticks\":\"\"}}}],\"scattermapbox\":[{\"type\":\"scattermapbox\",\"marker\":{\"colorbar\":{\"outlinewidth\":0,\"ticks\":\"\"}}}],\"scatterternary\":[{\"type\":\"scatterternary\",\"marker\":{\"colorbar\":{\"outlinewidth\":0,\"ticks\":\"\"}}}],\"scattercarpet\":[{\"type\":\"scattercarpet\",\"marker\":{\"colorbar\":{\"outlinewidth\":0,\"ticks\":\"\"}}}],\"carpet\":[{\"aaxis\":{\"endlinecolor\":\"#2a3f5f\",\"gridcolor\":\"white\",\"linecolor\":\"white\",\"minorgridcolor\":\"white\",\"startlinecolor\":\"#2a3f5f\"},\"baxis\":{\"endlinecolor\":\"#2a3f5f\",\"gridcolor\":\"white\",\"linecolor\":\"white\",\"minorgridcolor\":\"white\",\"startlinecolor\":\"#2a3f5f\"},\"type\":\"carpet\"}],\"table\":[{\"cells\":{\"fill\":{\"color\":\"#EBF0F8\"},\"line\":{\"color\":\"white\"}},\"header\":{\"fill\":{\"color\":\"#C8D4E3\"},\"line\":{\"color\":\"white\"}},\"type\":\"table\"}],\"barpolar\":[{\"marker\":{\"line\":{\"color\":\"#E5ECF6\",\"width\":0.5},\"pattern\":{\"fillmode\":\"overlay\",\"size\":10,\"solidity\":0.2}},\"type\":\"barpolar\"}],\"pie\":[{\"automargin\":true,\"type\":\"pie\"}]},\"layout\":{\"autotypenumbers\":\"strict\",\"colorway\":[\"#636efa\",\"#EF553B\",\"#00cc96\",\"#ab63fa\",\"#FFA15A\",\"#19d3f3\",\"#FF6692\",\"#B6E880\",\"#FF97FF\",\"#FECB52\"],\"font\":{\"color\":\"#2a3f5f\"},\"hovermode\":\"closest\",\"hoverlabel\":{\"align\":\"left\"},\"paper_bgcolor\":\"white\",\"plot_bgcolor\":\"#E5ECF6\",\"polar\":{\"bgcolor\":\"#E5ECF6\",\"angularaxis\":{\"gridcolor\":\"white\",\"linecolor\":\"white\",\"ticks\":\"\"},\"radialaxis\":{\"gridcolor\":\"white\",\"linecolor\":\"white\",\"ticks\":\"\"}},\"ternary\":{\"bgcolor\":\"#E5ECF6\",\"aaxis\":{\"gridcolor\":\"white\",\"linecolor\":\"white\",\"ticks\":\"\"},\"baxis\":{\"gridcolor\":\"white\",\"linecolor\":\"white\",\"ticks\":\"\"},\"caxis\":{\"gridcolor\":\"white\",\"linecolor\":\"white\",\"ticks\":\"\"}},\"coloraxis\":{\"colorbar\":{\"outlinewidth\":0,\"ticks\":\"\"}},\"colorscale\":{\"sequential\":[[0.0,\"#0d0887\"],[0.1111111111111111,\"#46039f\"],[0.2222222222222222,\"#7201a8\"],[0.3333333333333333,\"#9c179e\"],[0.4444444444444444,\"#bd3786\"],[0.5555555555555556,\"#d8576b\"],[0.6666666666666666,\"#ed7953\"],[0.7777777777777778,\"#fb9f3a\"],[0.8888888888888888,\"#fdca26\"],[1.0,\"#f0f921\"]],\"sequentialminus\":[[0.0,\"#0d0887\"],[0.1111111111111111,\"#46039f\"],[0.2222222222222222,\"#7201a8\"],[0.3333333333333333,\"#9c179e\"],[0.4444444444444444,\"#bd3786\"],[0.5555555555555556,\"#d8576b\"],[0.6666666666666666,\"#ed7953\"],[0.7777777777777778,\"#fb9f3a\"],[0.8888888888888888,\"#fdca26\"],[1.0,\"#f0f921\"]],\"diverging\":[[0,\"#8e0152\"],[0.1,\"#c51b7d\"],[0.2,\"#de77ae\"],[0.3,\"#f1b6da\"],[0.4,\"#fde0ef\"],[0.5,\"#f7f7f7\"],[0.6,\"#e6f5d0\"],[0.7,\"#b8e186\"],[0.8,\"#7fbc41\"],[0.9,\"#4d9221\"],[1,\"#276419\"]]},\"xaxis\":{\"gridcolor\":\"white\",\"linecolor\":\"white\",\"ticks\":\"\",\"title\":{\"standoff\":15},\"zerolinecolor\":\"white\",\"automargin\":true,\"zerolinewidth\":2},\"yaxis\":{\"gridcolor\":\"white\",\"linecolor\":\"white\",\"ticks\":\"\",\"title\":{\"standoff\":15},\"zerolinecolor\":\"white\",\"automargin\":true,\"zerolinewidth\":2},\"scene\":{\"xaxis\":{\"backgroundcolor\":\"#E5ECF6\",\"gridcolor\":\"white\",\"linecolor\":\"white\",\"showbackground\":true,\"ticks\":\"\",\"zerolinecolor\":\"white\",\"gridwidth\":2},\"yaxis\":{\"backgroundcolor\":\"#E5ECF6\",\"gridcolor\":\"white\",\"linecolor\":\"white\",\"showbackground\":true,\"ticks\":\"\",\"zerolinecolor\":\"white\",\"gridwidth\":2},\"zaxis\":{\"backgroundcolor\":\"#E5ECF6\",\"gridcolor\":\"white\",\"linecolor\":\"white\",\"showbackground\":true,\"ticks\":\"\",\"zerolinecolor\":\"white\",\"gridwidth\":2}},\"shapedefaults\":{\"line\":{\"color\":\"#2a3f5f\"}},\"annotationdefaults\":{\"arrowcolor\":\"#2a3f5f\",\"arrowhead\":0,\"arrowwidth\":1},\"geo\":{\"bgcolor\":\"white\",\"landcolor\":\"#E5ECF6\",\"subunitcolor\":\"white\",\"showland\":true,\"showlakes\":true,\"lakecolor\":\"white\"},\"title\":{\"x\":0.05},\"mapbox\":{\"style\":\"light\"}}},\"xaxis\":{\"anchor\":\"y\",\"domain\":[0.0,1.0],\"title\":{\"text\":\"datetime\"}},\"yaxis\":{\"anchor\":\"x\",\"domain\":[0.0,1.0],\"title\":{\"text\":\"value\"}},\"legend\":{\"title\":{\"text\":\"variable\"},\"tracegroupgap\":0},\"margin\":{\"t\":60}},                        {\"responsive\": true}                    ).then(function(){\n",
              "                            \n",
              "var gd = document.getElementById('06921585-3d6d-41dd-8833-5ad69158e76f');\n",
              "var x = new MutationObserver(function (mutations, observer) {{\n",
              "        var display = window.getComputedStyle(gd).display;\n",
              "        if (!display || display === 'none') {{\n",
              "            console.log([gd, 'removed!']);\n",
              "            Plotly.purge(gd);\n",
              "            observer.disconnect();\n",
              "        }}\n",
              "}});\n",
              "\n",
              "// Listen for the removal of the full notebook cells\n",
              "var notebookContainer = gd.closest('#notebook-container');\n",
              "if (notebookContainer) {{\n",
              "    x.observe(notebookContainer, {childList: true});\n",
              "}}\n",
              "\n",
              "// Listen for the clearing of the current output cell\n",
              "var outputEl = gd.closest('.output');\n",
              "if (outputEl) {{\n",
              "    x.observe(outputEl, {childList: true});\n",
              "}}\n",
              "\n",
              "                        })                };                            </script>        </div>\n",
              "</body>\n",
              "</html>"
            ]
          },
          "metadata": {}
        }
      ],
      "source": [
        "import pandas as pd\n",
        "import plotly.express as px\n",
        "\n",
        "cities = [\"Paris\",\"London\",\"Lisbon\",\"New York\",\"Cape Town\", \"Madrid\"] # Feel free to add or remove some cities\n",
        "\n",
        "df=pd.DataFrame()\n",
        "\n",
        "for city in cities:\n",
        "\n",
        "    city_df=pd.DataFrame(get_forecasts(city))\n",
        "    city_df['datetime']=pd.to_datetime(city_df['datetime'])\n",
        "    city_df.set_index('datetime',inplace=True)\n",
        "    city_df.columns=[city]\n",
        "    df=pd.concat([df,city_df],axis=1)\n",
        "\n",
        "\n",
        "px.line(df)\n"
      ]
    }
  ],
  "metadata": {
    "kernelspec": {
      "display_name": "Python 3 (ipykernel)",
      "language": "python",
      "name": "python3"
    },
    "language_info": {
      "codemirror_mode": {
        "name": "ipython",
        "version": 3
      },
      "file_extension": ".py",
      "mimetype": "text/x-python",
      "name": "python",
      "nbconvert_exporter": "python",
      "pygments_lexer": "ipython3",
      "version": "3.10.6"
    },
    "toc": {
      "base_numbering": 1,
      "nav_menu": {},
      "number_sections": true,
      "sideBar": true,
      "skip_h1_title": false,
      "title_cell": "Table of Contents",
      "title_sidebar": "Contents",
      "toc_cell": false,
      "toc_position": {},
      "toc_section_display": true,
      "toc_window_display": false
    },
    "colab": {
      "provenance": [],
      "include_colab_link": true
    }
  },
  "nbformat": 4,
  "nbformat_minor": 5
}